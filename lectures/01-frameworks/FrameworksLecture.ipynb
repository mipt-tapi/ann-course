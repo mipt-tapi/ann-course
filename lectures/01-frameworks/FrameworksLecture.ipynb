{
  "nbformat": 4,
  "nbformat_minor": 0,
  "metadata": {
    "colab": {
      "name": "Frameworks:Inception.ipynb",
      "version": "0.3.2",
      "provenance": [],
      "collapsed_sections": []
    },
    "kernelspec": {
      "name": "python3",
      "display_name": "Python 3"
    }
  },
  "cells": [
    {
      "cell_type": "markdown",
      "metadata": {
        "id": "xBWGVWgeaSa9",
        "colab_type": "text"
      },
      "source": [
        "# Frameworks: Inception (основы)\n"
      ]
    },
    {
      "cell_type": "markdown",
      "metadata": {
        "id": "1s6bUnpHdPDb",
        "colab_type": "text"
      },
      "source": [
        "## ML/DL frameworks"
      ]
    },
    {
      "cell_type": "markdown",
      "metadata": {
        "id": "o0JB3WaRh0zG",
        "colab_type": "text"
      },
      "source": [
        "### Keras\n",
        "[Framework documentation](https://keras.io/)\n",
        "\n",
        "`Keras` — это довольно высокоуровневый фреймворк, для описания нейросетевых моделей. Его основное назначение — быстрое прототипирование. Фактически он не реализует низкоуровневую логику, а оборачивает `core framework`, например `Tensorflow` или  `Theano`. "
      ]
    },
    {
      "cell_type": "markdown",
      "metadata": {
        "id": "iCSI2_mpiA95",
        "colab_type": "text"
      },
      "source": [
        "### Pytorch\n",
        "`Pytorch` является фреймворком с динамически исполняемыми графами.\n",
        "* [Main page](https://pytorch.org/)\n",
        "* [Documentation](https://pytorch.org/docs/stable/)\n",
        "* [Introductory habr post](https://habr.com/ru/post/334380/)\n"
      ]
    },
    {
      "cell_type": "markdown",
      "metadata": {
        "id": "h6TO36lgiDHc",
        "colab_type": "text"
      },
      "source": [
        "### Tensorflow\n",
        "\n",
        "Tensorflow в первой версии является библиотекой, в которой графы являются статическими, вычисления производятся в сессиях. Основное преимущество - тонкая настройка в production среде, поэтому все примеры в этом курсе сделаны на tensorflow."
      ]
    },
    {
      "cell_type": "markdown",
      "metadata": {
        "id": "yRFsYhN1dcmL",
        "colab_type": "text"
      },
      "source": [
        "# Обзор инструментов ML-разработчика"
      ]
    },
    {
      "cell_type": "markdown",
      "metadata": {
        "id": "LJZBRt9uy7cR",
        "colab_type": "text"
      },
      "source": [
        "### Pandas\n",
        "Это очень удобный фреймворк для беглого анализа данных в случае, если датасет не превосходит 100МБ. Для больших датасетов производительности этого инструмента уже может не хватать, если речь заходит о гигабайтах и сотнях гигабайт, нужно использовать специализированные решения вроде **Hadoop Spark**"
      ]
    },
    {
      "cell_type": "markdown",
      "metadata": {
        "id": "6xXxH-sU1sa_",
        "colab_type": "text"
      },
      "source": [
        "Скачаем для примера, какой-нибудь простой датасет в формате Comma Separated Values (CSV). Это довольно типичный формат для текстового хранения таблиц."
      ]
    },
    {
      "cell_type": "code",
      "metadata": {
        "id": "1Abaw3CFzB0M",
        "colab_type": "code",
        "outputId": "15ed7ea5-cdbe-456d-f4dc-8a230776ae85",
        "colab": {
          "base_uri": "https://localhost:8080/",
          "height": 104
        }
      },
      "source": [
        "!curl -L https://datahub.io/machine-learning/iris/r/iris.csv --output iris.csv"
      ],
      "execution_count": 0,
      "outputs": [
        {
          "output_type": "stream",
          "text": [
            "  % Total    % Received % Xferd  Average Speed   Time    Time     Time  Current\n",
            "                                 Dload  Upload   Total   Spent    Left  Speed\n",
            "100   131  100   131    0     0     84      0  0:00:01  0:00:01 --:--:--    84\n",
            "100  4753  100  4753    0     0   2741      0  0:00:01  0:00:01 --:--:--  2741\n"
          ],
          "name": "stdout"
        }
      ]
    },
    {
      "cell_type": "code",
      "metadata": {
        "id": "0fHGOeCzidhg",
        "colab_type": "code",
        "outputId": "9e607872-9770-4d82-dd89-4ee218916dd7",
        "colab": {
          "base_uri": "https://localhost:8080/",
          "height": 203
        }
      },
      "source": [
        "!head iris.csv"
      ],
      "execution_count": 0,
      "outputs": [
        {
          "output_type": "stream",
          "text": [
            "sepallength,sepalwidth,petallength,petalwidth,class\r\n",
            "5.1,3.5,1.4,0.2,Iris-setosa\r\n",
            "4.9,3.0,1.4,0.2,Iris-setosa\r\n",
            "4.7,3.2,1.3,0.2,Iris-setosa\r\n",
            "4.6,3.1,1.5,0.2,Iris-setosa\r\n",
            "5.0,3.6,1.4,0.2,Iris-setosa\r\n",
            "5.4,3.9,1.7,0.4,Iris-setosa\r\n",
            "4.6,3.4,1.4,0.3,Iris-setosa\r\n",
            "5.0,3.4,1.5,0.2,Iris-setosa\r\n",
            "4.4,2.9,1.4,0.2,Iris-setosa\r\n"
          ],
          "name": "stdout"
        }
      ]
    },
    {
      "cell_type": "markdown",
      "metadata": {
        "id": "TbHPN99P1ndO",
        "colab_type": "text"
      },
      "source": [
        "Библиотека Pandas предоставляет удобный функционал для работы с таблицами. По сути работа с таблицей превращается практически в работу над таблицей базы данных. "
      ]
    },
    {
      "cell_type": "code",
      "metadata": {
        "id": "Svdlahpr1cdH",
        "colab_type": "code",
        "outputId": "3731724f-f0c1-45e3-fc59-2357a3f9912b",
        "colab": {
          "base_uri": "https://localhost:8080/",
          "height": 221
        }
      },
      "source": [
        "import pandas as pd\n",
        "'''\n",
        "Иногда вместо ',' в качестве разделителя выступает '\\t'\n",
        "Тогда файл читается через: data = pd.read_csv('iris.csv', sep='\\t')\n",
        "Функция read_csv предоставляет еще много разного функционала,\n",
        "например можно переименовать столбцы, или оставить их без имян.\n",
        "Можно задавать словари для преобразования значений на лету, \n",
        "взять только нужные столбцы, автоматом заменять значения из \n",
        "заданного списка на true или false и много чего еще\n",
        "'''\n",
        "def name_to_class_id(name):\n",
        "  if name == 'Iris-setosa':\n",
        "    return 0\n",
        "  if name == 'Iris-versicolor':\n",
        "    return 1\n",
        "  if name == 'Iris-virginica':\n",
        "    return 2\n",
        "pd_data = pd.read_csv('iris.csv', converters={'class': name_to_class_id})\n",
        "pd_data.head()"
      ],
      "execution_count": 0,
      "outputs": [
        {
          "output_type": "execute_result",
          "data": {
            "text/html": [
              "<div>\n",
              "<style scoped>\n",
              "    .dataframe tbody tr th:only-of-type {\n",
              "        vertical-align: middle;\n",
              "    }\n",
              "\n",
              "    .dataframe tbody tr th {\n",
              "        vertical-align: top;\n",
              "    }\n",
              "\n",
              "    .dataframe thead th {\n",
              "        text-align: right;\n",
              "    }\n",
              "</style>\n",
              "<table border=\"1\" class=\"dataframe\">\n",
              "  <thead>\n",
              "    <tr style=\"text-align: right;\">\n",
              "      <th></th>\n",
              "      <th>sepallength</th>\n",
              "      <th>sepalwidth</th>\n",
              "      <th>petallength</th>\n",
              "      <th>petalwidth</th>\n",
              "      <th>class</th>\n",
              "    </tr>\n",
              "  </thead>\n",
              "  <tbody>\n",
              "    <tr>\n",
              "      <th>0</th>\n",
              "      <td>5.1</td>\n",
              "      <td>3.5</td>\n",
              "      <td>1.4</td>\n",
              "      <td>0.2</td>\n",
              "      <td>0</td>\n",
              "    </tr>\n",
              "    <tr>\n",
              "      <th>1</th>\n",
              "      <td>4.9</td>\n",
              "      <td>3.0</td>\n",
              "      <td>1.4</td>\n",
              "      <td>0.2</td>\n",
              "      <td>0</td>\n",
              "    </tr>\n",
              "    <tr>\n",
              "      <th>2</th>\n",
              "      <td>4.7</td>\n",
              "      <td>3.2</td>\n",
              "      <td>1.3</td>\n",
              "      <td>0.2</td>\n",
              "      <td>0</td>\n",
              "    </tr>\n",
              "    <tr>\n",
              "      <th>3</th>\n",
              "      <td>4.6</td>\n",
              "      <td>3.1</td>\n",
              "      <td>1.5</td>\n",
              "      <td>0.2</td>\n",
              "      <td>0</td>\n",
              "    </tr>\n",
              "    <tr>\n",
              "      <th>4</th>\n",
              "      <td>5.0</td>\n",
              "      <td>3.6</td>\n",
              "      <td>1.4</td>\n",
              "      <td>0.2</td>\n",
              "      <td>0</td>\n",
              "    </tr>\n",
              "  </tbody>\n",
              "</table>\n",
              "</div>"
            ],
            "text/plain": [
              "   sepallength  sepalwidth  petallength  petalwidth  class\n",
              "0          5.1         3.5          1.4         0.2      0\n",
              "1          4.9         3.0          1.4         0.2      0\n",
              "2          4.7         3.2          1.3         0.2      0\n",
              "3          4.6         3.1          1.5         0.2      0\n",
              "4          5.0         3.6          1.4         0.2      0"
            ]
          },
          "metadata": {
            "tags": []
          },
          "execution_count": 3
        }
      ]
    },
    {
      "cell_type": "markdown",
      "metadata": {
        "id": "Sq-8Aenm58h1",
        "colab_type": "text"
      },
      "source": [
        "Ирисы Фишера состоят из данных о 150 экземплярах ириса, по 50 экземпляров из трёх видов — Ирис щетинистый (Iris setosa), Ирис виргинский (Iris virginica) и Ирис разноцветный (Iris versicolor). Для каждого экземпляра измерялись четыре характеристики (в сантиметрах):\n",
        "\n",
        "1. Длина наружной доли околоцветника (англ. sepal length);\n",
        "2. Ширина наружной доли околоцветника (англ. sepal width);\n",
        "3. Длина внутренней доли околоцветника (англ. petal length);\n",
        "4. Ширина внутренней доли околоцветника (англ. petal width)."
      ]
    },
    {
      "cell_type": "markdown",
      "metadata": {
        "id": "nz7aiqwN8A5f",
        "colab_type": "text"
      },
      "source": [
        "**Проведем небольшую демонстрацию того, что из себя представляет Pandas DataFrame:**"
      ]
    },
    {
      "cell_type": "code",
      "metadata": {
        "id": "sc-Sn3P2y44z",
        "colab_type": "code",
        "outputId": "516279f1-c90c-4626-9d25-d26fddb77ef7",
        "colab": {
          "base_uri": "https://localhost:8080/",
          "height": 221
        }
      },
      "source": [
        "# Из таблицы можно взять столбец или набор столбцов аналогично обычному select\n",
        "selected_columns = pd_data[['sepallength','sepalwidth','class']]\n",
        "selected_columns.head()"
      ],
      "execution_count": 0,
      "outputs": [
        {
          "output_type": "execute_result",
          "data": {
            "text/html": [
              "<div>\n",
              "<style scoped>\n",
              "    .dataframe tbody tr th:only-of-type {\n",
              "        vertical-align: middle;\n",
              "    }\n",
              "\n",
              "    .dataframe tbody tr th {\n",
              "        vertical-align: top;\n",
              "    }\n",
              "\n",
              "    .dataframe thead th {\n",
              "        text-align: right;\n",
              "    }\n",
              "</style>\n",
              "<table border=\"1\" class=\"dataframe\">\n",
              "  <thead>\n",
              "    <tr style=\"text-align: right;\">\n",
              "      <th></th>\n",
              "      <th>sepallength</th>\n",
              "      <th>sepalwidth</th>\n",
              "      <th>class</th>\n",
              "    </tr>\n",
              "  </thead>\n",
              "  <tbody>\n",
              "    <tr>\n",
              "      <th>0</th>\n",
              "      <td>5.1</td>\n",
              "      <td>3.5</td>\n",
              "      <td>0</td>\n",
              "    </tr>\n",
              "    <tr>\n",
              "      <th>1</th>\n",
              "      <td>4.9</td>\n",
              "      <td>3.0</td>\n",
              "      <td>0</td>\n",
              "    </tr>\n",
              "    <tr>\n",
              "      <th>2</th>\n",
              "      <td>4.7</td>\n",
              "      <td>3.2</td>\n",
              "      <td>0</td>\n",
              "    </tr>\n",
              "    <tr>\n",
              "      <th>3</th>\n",
              "      <td>4.6</td>\n",
              "      <td>3.1</td>\n",
              "      <td>0</td>\n",
              "    </tr>\n",
              "    <tr>\n",
              "      <th>4</th>\n",
              "      <td>5.0</td>\n",
              "      <td>3.6</td>\n",
              "      <td>0</td>\n",
              "    </tr>\n",
              "  </tbody>\n",
              "</table>\n",
              "</div>"
            ],
            "text/plain": [
              "   sepallength  sepalwidth  class\n",
              "0          5.1         3.5      0\n",
              "1          4.9         3.0      0\n",
              "2          4.7         3.2      0\n",
              "3          4.6         3.1      0\n",
              "4          5.0         3.6      0"
            ]
          },
          "metadata": {
            "tags": []
          },
          "execution_count": 4
        }
      ]
    },
    {
      "cell_type": "code",
      "metadata": {
        "id": "6_bjBmJP89Vy",
        "colab_type": "code",
        "outputId": "4081c66e-f8d3-45ca-97fc-4a912dbcac00",
        "colab": {
          "base_uri": "https://localhost:8080/",
          "height": 220
        }
      },
      "source": [
        "# Объявим 2 датафрэйма для демонстрации табличных операций на примере join\n",
        "df = pd.DataFrame({\n",
        "     'key': ['K0', 'K1', 'K2', 'K3', 'K4', 'K5'],\n",
        "     'A': ['A0', 'A1', 'A2', 'A3', 'A4', 'A5']\n",
        "})\n",
        "other = pd.DataFrame({\n",
        "    'key': ['K0', 'K1', 'K2'],\n",
        "    'B': ['B0', 'B1', 'B2']\n",
        "})\n",
        "print(df.head())\n",
        "print('---------')\n",
        "print(other.head())"
      ],
      "execution_count": 0,
      "outputs": [
        {
          "output_type": "stream",
          "text": [
            "  key   A\n",
            "0  K0  A0\n",
            "1  K1  A1\n",
            "2  K2  A2\n",
            "3  K3  A3\n",
            "4  K4  A4\n",
            "---------\n",
            "  key   B\n",
            "0  K0  B0\n",
            "1  K1  B1\n",
            "2  K2  B2\n"
          ],
          "name": "stdout"
        }
      ]
    },
    {
      "cell_type": "code",
      "metadata": {
        "id": "uGuWPc4P-f8E",
        "colab_type": "code",
        "outputId": "7624b59a-a09b-4994-9dbb-d0aa3bacfcc3",
        "colab": {
          "base_uri": "https://localhost:8080/",
          "height": 153
        }
      },
      "source": [
        "# Сделаем join получившихся таблиц по индексу\n",
        "print(df.join(other, lsuffix='_caller', rsuffix='_other'))"
      ],
      "execution_count": 0,
      "outputs": [
        {
          "output_type": "stream",
          "text": [
            "  key_caller   A key_other    B\n",
            "0         K0  A0        K0   B0\n",
            "1         K1  A1        K1   B1\n",
            "2         K2  A2        K2   B2\n",
            "3         K3  A3       NaN  NaN\n",
            "4         K4  A4       NaN  NaN\n",
            "5         K5  A5       NaN  NaN\n"
          ],
          "name": "stdout"
        }
      ]
    },
    {
      "cell_type": "code",
      "metadata": {
        "id": "xECgCAfX-7V6",
        "colab_type": "code",
        "outputId": "b3a568f1-8bb5-41a7-d1b7-a6d8a9b3c504",
        "colab": {
          "base_uri": "https://localhost:8080/",
          "height": 170
        }
      },
      "source": [
        "# Сделаем join получившихся таблиц по заданному ключу\n",
        "# В этом примере мы поменяли индекс у обеих таблиц, но\n",
        "# можно этого не делать если использовать ON\n",
        "print(df.set_index('key').join(other.set_index('key')))"
      ],
      "execution_count": 0,
      "outputs": [
        {
          "output_type": "stream",
          "text": [
            "      A    B\n",
            "key         \n",
            "K0   A0   B0\n",
            "K1   A1   B1\n",
            "K2   A2   B2\n",
            "K3   A3  NaN\n",
            "K4   A4  NaN\n",
            "K5   A5  NaN\n"
          ],
          "name": "stdout"
        }
      ]
    },
    {
      "cell_type": "code",
      "metadata": {
        "id": "ougpkpOo_etb",
        "colab_type": "code",
        "outputId": "629abc0d-b2d1-4fde-8d8d-652c6f178312",
        "colab": {
          "base_uri": "https://localhost:8080/",
          "height": 153
        }
      },
      "source": [
        "# В этом примере мы сохраняем индекс первой таблицы\n",
        "joined_df = df.join(other.set_index('key'), on='key') \n",
        "print(joined_df)"
      ],
      "execution_count": 0,
      "outputs": [
        {
          "output_type": "stream",
          "text": [
            "  key   A    B\n",
            "0  K0  A0   B0\n",
            "1  K1  A1   B1\n",
            "2  K2  A2   B2\n",
            "3  K3  A3  NaN\n",
            "4  K4  A4  NaN\n",
            "5  K5  A5  NaN\n"
          ],
          "name": "stdout"
        }
      ]
    },
    {
      "cell_type": "code",
      "metadata": {
        "id": "SmOTYey__uN5",
        "colab_type": "code",
        "outputId": "81579517-f4ff-4ad4-829d-5a9cc7c96e6d",
        "colab": {
          "base_uri": "https://localhost:8080/",
          "height": 104
        }
      },
      "source": [
        "# К самим датафреймам также можно применять преобразования/фильтры и др.\n",
        "# Например можно легко выбросить строки с NaN в столбце\n",
        "print(joined_df[joined_df['B'].notnull()])"
      ],
      "execution_count": 0,
      "outputs": [
        {
          "output_type": "stream",
          "text": [
            "  key   A   B\n",
            "0  K0  A0  B0\n",
            "1  K1  A1  B1\n",
            "2  K2  A2  B2\n"
          ],
          "name": "stdout"
        }
      ]
    },
    {
      "cell_type": "markdown",
      "metadata": {
        "id": "C0MecbUACrqf",
        "colab_type": "text"
      },
      "source": [
        "В целом, pandas позволяет делать и аналог subquery, строить цепочки запросов и реализует очень много функционала реляционных баз данных. Кроме того, поверх такого представления данных легко строить разные графики или экспортировать эти датафреймы в разные форматы.\n",
        "\n",
        "[Хорошая статья](https://tproger.ru/translations/rewrite-sql-queries-in-pandas/) на tproger с примерами того, как можно использовать **pandas** вместо **SQL** \n",
        "\n",
        "Все же часто бывает удобно подготовить данные в **pandas** но сложные статистики считать непосредственно внутри **Numpy**"
      ]
    },
    {
      "cell_type": "markdown",
      "metadata": {
        "id": "H_WDPCtODgtN",
        "colab_type": "text"
      },
      "source": [
        "### Numpy\n",
        "Это библиотека для быстрых тензорных операций в Python\n",
        "Здесь есть быстрое перемножение тензоров, поиск корней уравнения, производные на решетке, матричные разложения и вообще до кучи разного функционала из линейной алгебры. Для примера, решим задачу Iris с использованием **Numpy** "
      ]
    },
    {
      "cell_type": "code",
      "metadata": {
        "id": "RbRaJN2WFLOV",
        "colab_type": "code",
        "outputId": "6ec288e5-2cc1-4e4f-bccb-ee848e588036",
        "colab": {
          "base_uri": "https://localhost:8080/",
          "height": 71
        }
      },
      "source": [
        "import numpy as np\n",
        "np_data, np_target = pd_data.values[:, :-1], pd_data.values[:, -1].astype(int)\n",
        "print(np_data.shape, np_data[0])\n",
        "print(np_target.shape, np_target[0])"
      ],
      "execution_count": 0,
      "outputs": [
        {
          "output_type": "stream",
          "text": [
            "(150, 4) [5.1 3.5 1.4 0.2]\n",
            "(150,) 0\n"
          ],
          "name": "stdout"
        }
      ]
    },
    {
      "cell_type": "code",
      "metadata": {
        "id": "YSgjL7DVHbgT",
        "colab_type": "code",
        "outputId": "7f079366-526d-4db7-9e9d-51dd4e0543ac",
        "colab": {
          "base_uri": "https://localhost:8080/",
          "height": 614
        }
      },
      "source": [
        "import matplotlib.pyplot as plt\n",
        "import matplotlib.cm as cm\n",
        "%matplotlib inline\n",
        "# Воспользуемся Matplotlib чтобы визуализировать зависимости между параметрами\n",
        "setosa = np_data[np_target == 0]\n",
        "versicolor = np_data[np_target == 1]\n",
        "virginica = np_data[np_target == 2]\n",
        "colors = cm.rainbow(np.linspace(0, 1, 3))\n",
        "plt.figure(figsize=(14, 8))\n",
        "plt.scatter(setosa[:, 0], setosa[:, 2], c=colors[0], label='Setosa')\n",
        "plt.scatter(versicolor[:, 0], versicolor[:, 2], c=colors[1], label='Versicolor')\n",
        "plt.scatter(virginica[:, 0], virginica[:, 2], c=colors[2], label='Virginica')\n",
        "plt.title('Iris Sepal/Petal length comparison', fontsize=20)\n",
        "plt.xlabel('Sepal length', fontsize=20)\n",
        "plt.ylabel('Petal length', fontsize=20)\n",
        "plt.legend(fontsize=15)"
      ],
      "execution_count": 0,
      "outputs": [
        {
          "output_type": "stream",
          "text": [
            "'c' argument looks like a single numeric RGB or RGBA sequence, which should be avoided as value-mapping will have precedence in case its length matches with 'x' & 'y'.  Please use a 2-D array with a single row if you really want to specify the same RGB or RGBA value for all points.\n",
            "'c' argument looks like a single numeric RGB or RGBA sequence, which should be avoided as value-mapping will have precedence in case its length matches with 'x' & 'y'.  Please use a 2-D array with a single row if you really want to specify the same RGB or RGBA value for all points.\n",
            "'c' argument looks like a single numeric RGB or RGBA sequence, which should be avoided as value-mapping will have precedence in case its length matches with 'x' & 'y'.  Please use a 2-D array with a single row if you really want to specify the same RGB or RGBA value for all points.\n"
          ],
          "name": "stderr"
        },
        {
          "output_type": "execute_result",
          "data": {
            "text/plain": [
              "<matplotlib.legend.Legend at 0x7ffb374e8f98>"
            ]
          },
          "metadata": {
            "tags": []
          },
          "execution_count": 83
        },
        {
          "output_type": "display_data",
          "data": {
            "image/png": "[encoded data removed]",
            "text/plain": [
              "<Figure size 1008x576 with 1 Axes>"
            ]
          },
          "metadata": {
            "tags": []
          }
        }
      ]
    },
    {
      "cell_type": "markdown",
      "metadata": {
        "id": "oKbTLFGOKZ4Q",
        "colab_type": "text"
      },
      "source": [
        "Здесь я специально обратил внимание на пару параметров, по которым\n",
        "выборка данных практически линейно разделима. Построим алгоритм классификации\n",
        "по следующему принципу: если значение PetalLength < 2.5, то мы относим ирис\n",
        "к классу Setosa. В противном случае мы вычисляем: \n",
        "sign(w1 * petallength + w2 * sepallength), нужно только сопоставить метки классов, например {-1: versicolor, 1: virginica} и сформулировать задачу регрессии. Найдем w1 и w2 как решение СЛАУ по методу наименьших квадратов."
      ]
    },
    {
      "cell_type": "code",
      "metadata": {
        "id": "sAS6vruNI6P8",
        "colab_type": "code",
        "outputId": "7bf36b96-fe3d-4fd5-a8f8-9083102ffe00",
        "colab": {
          "base_uri": "https://localhost:8080/",
          "height": 104
        }
      },
      "source": [
        "# Выделим только интересующие нас признаки\n",
        "A = np.vstack([versicolor[:, ::2], virginica[:, ::2]])\n",
        "# Проставим метки класса для versicolor и virginica как -1 и 1\n",
        "b = np.hstack([-np.ones(len(versicolor)), np.ones(len(virginica))])\n",
        "# Решим задачу регрессии при помощи Numpy\n",
        "params = np.linalg.lstsq(A, b)[0]\n",
        "\n",
        "# Сделаем предсказание по принципу, описанному выше\n",
        "result = np.zeros(len(np_data))\n",
        "y_pred = np.sign(np_data[:, ::2].dot(params))\n",
        "y_pred[np_data[:, 2] < 2.5] = -3\n",
        "y_pred = (y_pred + 3) / 2\n",
        "# Посчитаем Accuracy для нашего метода.\n",
        "print(np.sum(y_pred == np_target) / len(y_pred))\n"
      ],
      "execution_count": 0,
      "outputs": [
        {
          "output_type": "stream",
          "text": [
            "0.9333333333333333\n"
          ],
          "name": "stdout"
        },
        {
          "output_type": "stream",
          "text": [
            "/usr/local/lib/python3.6/dist-packages/ipykernel_launcher.py:5: FutureWarning: `rcond` parameter will change to the default of machine precision times ``max(M, N)`` where M and N are the input matrix dimensions.\n",
            "To use the future default and silence this warning we advise to pass `rcond=None`, to keep using the old, explicitly pass `rcond=-1`.\n",
            "  \"\"\"\n"
          ],
          "name": "stderr"
        }
      ]
    },
    {
      "cell_type": "markdown",
      "metadata": {
        "id": "o_oJQ9sdTunn",
        "colab_type": "text"
      },
      "source": [
        "Здесь я продемонстрировал только маленькую толику функционала библиотеки Numpy. Конечно там есть не только least squares, но и поиск корней уравнения, матричные разложения и прочее. "
      ]
    },
    {
      "cell_type": "markdown",
      "metadata": {
        "id": "fftCdvBWEVtL",
        "colab_type": "text"
      },
      "source": [
        "### Scikit-learn: demo\n",
        "\n",
        "Для того, чтобы протестировать различные классические модели на небольшом датасете можно воспользоваться пакетом scikit-learn. Чтобы было понятно, чем же он так удобен, проведем небольшую демонстрацию"
      ]
    },
    {
      "cell_type": "code",
      "metadata": {
        "id": "47_f2Tl_HglF",
        "colab_type": "code",
        "colab": {}
      },
      "source": [
        "# Это может путать, но пакет импортируется именно как sklearn (а не scikit_learn)\n",
        "import sklearn"
      ],
      "execution_count": 0,
      "outputs": []
    },
    {
      "cell_type": "code",
      "metadata": {
        "id": "ccgfndObRbjW",
        "colab_type": "code",
        "colab": {}
      },
      "source": [
        "'''Самые тривиальные и классические датасеты в sklearn можно подключать прямо\n",
        "из коробки, например Iris или Digits, хотя понятное дело, что ими \n",
        "все не ограничивается\n",
        "'''\n",
        "from sklearn.datasets import load_iris\n",
        "from sklearn.datasets import load_digits\n",
        "# Например загрузим iris"
      ],
      "execution_count": 0,
      "outputs": []
    },
    {
      "cell_type": "code",
      "metadata": {
        "id": "Nn9fzxIUR_vm",
        "colab_type": "code",
        "colab": {}
      },
      "source": [
        "'''Загруженный датасет нужно как-то разделить на обучающую и тестовую подвыборки\n",
        "в sklearn есть удобная функция с большим количеством настроек: train_test_split\n",
        "'''\n",
        "from sklearn.model_selection import train_test_split"
      ],
      "execution_count": 0,
      "outputs": []
    },
    {
      "cell_type": "code",
      "metadata": {
        "id": "9QW1H3cjR-SK",
        "colab_type": "code",
        "colab": {}
      },
      "source": [
        "'''  В библиотеке реализованы все основные метрики качеста для классификации\n",
        "и регрессии. Если вдруг нужна сильно специфичная метрика, ее придется\n",
        "реализовать вручную. Как их использовать, покажу на примере accuracy\n",
        "'''\n",
        "from sklearn.metrics import accuracy_score"
      ],
      "execution_count": 0,
      "outputs": []
    },
    {
      "cell_type": "code",
      "metadata": {
        "colab_type": "code",
        "id": "ijXQC0NE5qKO",
        "colab": {}
      },
      "source": [
        "''' Как может выглядеть типичный код на sklearn для классификации\n",
        "Посмотрим на примере функции, sklearn_deo(data_loader, classifier)\n",
        "data_loader:\n",
        "  Функция, из sklearn.datasets, загружающая один из датасетов\n",
        "classsifier:\n",
        "  Любой классифицирующий \"estimator\" из sklearn\n",
        "'''\n",
        "def sklearn_demo(data_loader, classifier):\n",
        "  #   Загрузим датасет в память X и y - это numpy массивы\n",
        "  X, y = data_loader(return_X_y=True)\n",
        "  \n",
        "  '''Разделим выборку на обучающую и тестовую части\n",
        "  test_size=0.2 - означает, что размер тестовой выборки составит 20% от общего\n",
        "  размера датасета. А random_state=42 нужно для фиксирования какого-нибудь\n",
        "  одного разбиения на подмножества. Благодаря нему мы получаем воспроизводимость\n",
        "  разделения датасета, соответственно и результатов эксперимента, это важно.\n",
        "  '''\n",
        "  x_train, x_test, y_train, y_test = train_test_split(X, y, test_size=0.2, random_state=42)\n",
        "  \n",
        "  '''Максимально просто в Sklearn можно обучить модель и предсказать значения\n",
        "  для тестовой выборки. Финально выведем статистику по тому, какой accuracy_score\n",
        "  (то есть доля верных ответов) достигает наша модель на данных.\n",
        "  '''\n",
        "  classifier.fit(x_train, y_train)\n",
        "  y_pred = classifier.predict(x_test)\n",
        "  print('Used classifier: {}, Got accuracy score: {}'.format(type(classifier), accuracy_score(y_test, y_pred)))"
      ],
      "execution_count": 0,
      "outputs": []
    },
    {
      "cell_type": "code",
      "metadata": {
        "id": "YE-fAO2U5uUM",
        "colab_type": "code",
        "outputId": "59fe2fcf-806f-4ec6-dd2d-950c2f0bcebe",
        "colab": {
          "base_uri": "https://localhost:8080/",
          "height": 71
        }
      },
      "source": [
        "'''Посмотрим чуть более детально на примере Iris\n",
        "'''\n",
        "from sklearn.datasets import load_iris\n",
        "X, y = load_iris(return_X_y=True)\n",
        "print('MSE distance between data: {}'.format(np.square(X - np_data).sum()))\n",
        "print('MSE distance between targets: {}'.format(np.square(y - np_target).sum()))\n",
        "'''Видно, что датасет почти ничем не отличается от того, что мы разбирали раньше.\n",
        "Загрузим и протестируем несколько стандартных классификаторов, которые нам\n",
        "доступны в sklearn.\n",
        "\n",
        "By the way, после этого комментария не просто так стоит символ \";\", как вы\n",
        "думаете зачем?\n",
        "''';"
      ],
      "execution_count": 0,
      "outputs": [
        {
          "output_type": "stream",
          "text": [
            "MSE distance between data: 0.27\n",
            "MSE distance between targets: 0\n"
          ],
          "name": "stdout"
        }
      ]
    },
    {
      "cell_type": "code",
      "metadata": {
        "id": "o-4BiUm2OTrk",
        "colab_type": "code",
        "colab": {}
      },
      "source": [
        "'''Возьмем для примера LogisticRegression и KNeighborsClassifier\n",
        "(кстати будте внимательны к написанию слова neighbor, а то можно жестоко обмануться)\n",
        "'''\n",
        "from sklearn.linear_model import LogisticRegression\n",
        "from sklearn.neighbors import KNeighborsClassifier"
      ],
      "execution_count": 0,
      "outputs": []
    },
    {
      "cell_type": "code",
      "metadata": {
        "id": "so4dQMxY9heY",
        "colab_type": "code",
        "outputId": "f7ed3250-f4a3-407f-8024-5d430f17d046",
        "colab": {
          "base_uri": "https://localhost:8080/",
          "height": 120
        }
      },
      "source": [
        "sklearn_demo(load_iris, LogisticRegression())\n",
        "'''Мы видим здесь FutureWarnings про то, как поменяются значения по умолчанию,\n",
        "давайте их зададим явно, чтобы было меньше мусора в выводе\n",
        "''';"
      ],
      "execution_count": 0,
      "outputs": [
        {
          "output_type": "stream",
          "text": [
            "Used classifier: <class 'sklearn.linear_model.logistic.LogisticRegression'>, Got accuracy score: 1.0\n"
          ],
          "name": "stdout"
        },
        {
          "output_type": "stream",
          "text": [
            "/usr/local/lib/python3.6/dist-packages/sklearn/linear_model/logistic.py:432: FutureWarning: Default solver will be changed to 'lbfgs' in 0.22. Specify a solver to silence this warning.\n",
            "  FutureWarning)\n",
            "/usr/local/lib/python3.6/dist-packages/sklearn/linear_model/logistic.py:469: FutureWarning: Default multi_class will be changed to 'auto' in 0.22. Specify the multi_class option to silence this warning.\n",
            "  \"this warning.\", FutureWarning)\n"
          ],
          "name": "stderr"
        }
      ]
    },
    {
      "cell_type": "code",
      "metadata": {
        "id": "8HS5tnDK9mpJ",
        "colab_type": "code",
        "outputId": "25b76a27-4322-4507-e662-aeb773aad95e",
        "colab": {
          "base_uri": "https://localhost:8080/",
          "height": 87
        }
      },
      "source": [
        "sklearn_demo(load_iris, LogisticRegression(\n",
        "    solver='lbfgs', \n",
        "    multi_class='auto',\n",
        "))\n",
        "'''Теперь мы увидели, что метод не успел нормально сойтись к решению. \n",
        "Хотя мы и видим accuracy_score: 1.0. Давайте увеличим max_iter до 300\n",
        "''';"
      ],
      "execution_count": 0,
      "outputs": [
        {
          "output_type": "stream",
          "text": [
            "Used classifier: <class 'sklearn.linear_model.logistic.LogisticRegression'>, Got accuracy score: 1.0\n"
          ],
          "name": "stdout"
        },
        {
          "output_type": "stream",
          "text": [
            "/usr/local/lib/python3.6/dist-packages/sklearn/linear_model/logistic.py:947: ConvergenceWarning: lbfgs failed to converge. Increase the number of iterations.\n",
            "  \"of iterations.\", ConvergenceWarning)\n"
          ],
          "name": "stderr"
        }
      ]
    },
    {
      "cell_type": "code",
      "metadata": {
        "id": "jZgDkbwt9dul",
        "colab_type": "code",
        "outputId": "be33cbad-993b-4a02-90c9-ebd9ad9eded0",
        "colab": {
          "base_uri": "https://localhost:8080/",
          "height": 54
        }
      },
      "source": [
        "sklearn_demo(load_iris, LogisticRegression(\n",
        "    solver='lbfgs', \n",
        "    multi_class='auto',\n",
        "    max_iter=300\n",
        "))\n",
        "# Итак, мы получили обученную модель с неплохим результатом на тесте"
      ],
      "execution_count": 0,
      "outputs": [
        {
          "output_type": "stream",
          "text": [
            "Used classifier: <class 'sklearn.linear_model.logistic.LogisticRegression'>, Got accuracy score: 1.0\n"
          ],
          "name": "stdout"
        }
      ]
    },
    {
      "cell_type": "code",
      "metadata": {
        "id": "piiwgTRxPYxN",
        "colab_type": "code",
        "outputId": "63e69c55-e558-49f2-f100-d2d9dd96a6fb",
        "colab": {
          "base_uri": "https://localhost:8080/",
          "height": 104
        }
      },
      "source": [
        "from sklearn.discriminant_analysis import LinearDiscriminantAnalysis as LDA\n",
        "from sklearn.ensemble import RandomForestClassifier as RFC\n",
        "'''Аналогично можно продемонстрировать все это для KNN или RandomForest, \n",
        "whatever you want\n",
        "'''\n",
        "sklearn_demo(load_iris, LogisticRegression(\n",
        "    solver='lbfgs', \n",
        "    multi_class='auto',\n",
        "    max_iter=300\n",
        "))\n",
        "sklearn_demo(load_iris, LDA())\n",
        "\n",
        "sklearn_demo(load_iris, KNeighborsClassifier())\n",
        "\n",
        "sklearn_demo(load_iris, RFC(\n",
        "    n_estimators=10\n",
        "))"
      ],
      "execution_count": 0,
      "outputs": [
        {
          "output_type": "stream",
          "text": [
            "Used classifier: <class 'sklearn.linear_model.logistic.LogisticRegression'>, Got accuracy score: 1.0\n",
            "Used classifier: <class 'sklearn.discriminant_analysis.LinearDiscriminantAnalysis'>, Got accuracy score: 1.0\n",
            "Used classifier: <class 'sklearn.neighbors.classification.KNeighborsClassifier'>, Got accuracy score: 1.0\n",
            "Used classifier: <class 'sklearn.ensemble.forest.RandomForestClassifier'>, Got accuracy score: 1.0\n"
          ],
          "name": "stdout"
        }
      ]
    },
    {
      "cell_type": "code",
      "metadata": {
        "id": "yyQikQLZIEDb",
        "colab_type": "code",
        "outputId": "ce032e55-49bf-4f61-af53-618c00f6d6a3",
        "colab": {
          "base_uri": "https://localhost:8080/",
          "height": 120
        }
      },
      "source": [
        "'''Продемонстрируем все то же самое на чуть более сложной задаче, например\n",
        "digits\n",
        "'''\n",
        "sklearn_demo(load_digits, LDA())\n",
        "\n",
        "sklearn_demo(load_digits, KNeighborsClassifier())\n",
        "\n",
        "sklearn_demo(load_digits, RFC(\n",
        "    n_estimators=10\n",
        "))"
      ],
      "execution_count": 0,
      "outputs": [
        {
          "output_type": "stream",
          "text": [
            "/usr/local/lib/python3.6/dist-packages/sklearn/discriminant_analysis.py:388: UserWarning: Variables are collinear.\n",
            "  warnings.warn(\"Variables are collinear.\")\n"
          ],
          "name": "stderr"
        },
        {
          "output_type": "stream",
          "text": [
            "Used classifier: <class 'sklearn.discriminant_analysis.LinearDiscriminantAnalysis'>, Got accuracy score: 0.9444444444444444\n",
            "Used classifier: <class 'sklearn.neighbors.classification.KNeighborsClassifier'>, Got accuracy score: 0.9861111111111112\n",
            "Used classifier: <class 'sklearn.ensemble.forest.RandomForestClassifier'>, Got accuracy score: 0.9527777777777777\n"
          ],
          "name": "stdout"
        }
      ]
    },
    {
      "cell_type": "markdown",
      "metadata": {
        "id": "f2m_eICMAjuL",
        "colab_type": "text"
      },
      "source": [
        "Другая важная сторона — это подбор гиперпараметров\n",
        "В Sklearn есть возможность из коробки запустить некоторый\n",
        "перебор гиперпараметров, покажем это на примере GridSearch. Сейчас не вдаваясь в подробности сделаем некоторый перебор параметров для RandomForestClassifier на задаче digits"
      ]
    },
    {
      "cell_type": "code",
      "metadata": {
        "id": "Rhk2saqmBtbf",
        "colab_type": "code",
        "outputId": "259e0eb5-9ef1-45ef-e9d0-748e3b693897",
        "colab": {
          "base_uri": "https://localhost:8080/",
          "height": 137
        }
      },
      "source": [
        "# Подключим некоторый PrettyPrint, чтобы красиво выводить словари\n",
        "from pprint import pprint\n",
        "# Подключим рандомизированный поиск по сетке параметров\n",
        "from sklearn.model_selection import RandomizedSearchCV\n",
        "# Количество деревьев в RandomForestClassifier\n",
        "n_estimators = [int(x) for x in np.linspace(start = 200, stop = 2000, num = 10)]\n",
        "# Алгоритм выбора максимального количества фичей на каждом разделении\n",
        "max_features = ['auto', 'sqrt']\n",
        "# Максимальная глубина дерева\n",
        "max_depth = [int(x) for x in np.linspace(10, 110, num = 11)]\n",
        "max_depth.append(None)\n",
        "# Минимальное количество элементов при котором вершина все еще делится\n",
        "min_samples_split = [2, 5, 10]\n",
        "# Минимальное количество элементов в терминальной вершине\n",
        "min_samples_leaf = [1, 2, 4]\n",
        "# Использовать ли bootstrap aggregation\n",
        "bootstrap = [True, False]\n",
        "# Соберем из этого решетку для перебора\n",
        "random_grid = {'n_estimators': n_estimators,\n",
        "               'max_features': max_features,\n",
        "               'max_depth': max_depth,\n",
        "               'min_samples_split': min_samples_split,\n",
        "               'min_samples_leaf': min_samples_leaf,\n",
        "               'bootstrap': bootstrap}\n",
        "pprint(random_grid)"
      ],
      "execution_count": 0,
      "outputs": [
        {
          "output_type": "stream",
          "text": [
            "{'bootstrap': [True, False],\n",
            " 'max_depth': [10, 20, 30, 40, 50, 60, 70, 80, 90, 100, 110, None],\n",
            " 'max_features': ['auto', 'sqrt'],\n",
            " 'min_samples_leaf': [1, 2, 4],\n",
            " 'min_samples_split': [2, 5, 10],\n",
            " 'n_estimators': [200, 400, 600, 800, 1000, 1200, 1400, 1600, 1800, 2000]}\n"
          ],
          "name": "stdout"
        }
      ]
    },
    {
      "cell_type": "code",
      "metadata": {
        "id": "sX79tUSQDRAP",
        "colab_type": "code",
        "outputId": "2f938646-ff6b-4ad3-8af7-d2459b9eaee3",
        "colab": {
          "base_uri": "https://localhost:8080/",
          "height": 566
        }
      },
      "source": [
        "rf = RFC()\n",
        "rf_random = RandomizedSearchCV(\n",
        "    estimator = rf, \n",
        "    param_distributions = random_grid, \n",
        "    n_iter = 10, \n",
        "    cv = 3, \n",
        "    verbose=2, \n",
        "    random_state=42, \n",
        "    n_jobs = -1\n",
        ")\n",
        "# Обучим модель случайного поиска\n",
        "X, y = load_digits(return_X_y=True)\n",
        "x_train, x_test, y_train, y_test = train_test_split(X, y, test_size=0.2, random_state=42)\n",
        "rf_random.fit(x_train, y_train)"
      ],
      "execution_count": 0,
      "outputs": [
        {
          "output_type": "stream",
          "text": [
            "Fitting 3 folds for each of 10 candidates, totalling 30 fits\n"
          ],
          "name": "stdout"
        },
        {
          "output_type": "stream",
          "text": [
            "[Parallel(n_jobs=-1)]: Using backend LokyBackend with 2 concurrent workers.\n",
            "/usr/local/lib/python3.6/dist-packages/joblib/externals/loky/process_executor.py:706: UserWarning: A worker stopped while some jobs were given to the executor. This can be caused by a too short worker timeout or by a memory leak.\n",
            "  \"timeout or by a memory leak.\", UserWarning\n",
            "[Parallel(n_jobs=-1)]: Done  30 out of  30 | elapsed:   53.1s finished\n"
          ],
          "name": "stderr"
        },
        {
          "output_type": "execute_result",
          "data": {
            "text/plain": [
              "RandomizedSearchCV(cv=3, error_score='raise-deprecating',\n",
              "                   estimator=RandomForestClassifier(bootstrap=True,\n",
              "                                                    class_weight=None,\n",
              "                                                    criterion='gini',\n",
              "                                                    max_depth=None,\n",
              "                                                    max_features='auto',\n",
              "                                                    max_leaf_nodes=None,\n",
              "                                                    min_impurity_decrease=0.0,\n",
              "                                                    min_impurity_split=None,\n",
              "                                                    min_samples_leaf=1,\n",
              "                                                    min_samples_split=2,\n",
              "                                                    min_weight_fraction_leaf=0.0,\n",
              "                                                    n_estimators='warn',\n",
              "                                                    n_jobs=None,\n",
              "                                                    oob_sc...\n",
              "                   param_distributions={'bootstrap': [True, False],\n",
              "                                        'max_depth': [10, 20, 30, 40, 50, 60,\n",
              "                                                      70, 80, 90, 100, 110,\n",
              "                                                      None],\n",
              "                                        'max_features': ['auto', 'sqrt'],\n",
              "                                        'min_samples_leaf': [1, 2, 4],\n",
              "                                        'min_samples_split': [2, 5, 10],\n",
              "                                        'n_estimators': [200, 400, 600, 800,\n",
              "                                                         1000, 1200, 1400, 1600,\n",
              "                                                         1800, 2000]},\n",
              "                   pre_dispatch='2*n_jobs', random_state=42, refit=True,\n",
              "                   return_train_score=False, scoring=None, verbose=2)"
            ]
          },
          "metadata": {
            "tags": []
          },
          "execution_count": 24
        }
      ]
    },
    {
      "cell_type": "code",
      "metadata": {
        "id": "4wkGadkgEz_c",
        "colab_type": "code",
        "outputId": "cfafee7d-687b-4273-c163-0cf07c1ece3d",
        "colab": {
          "base_uri": "https://localhost:8080/",
          "height": 104
        }
      },
      "source": [
        "# Как мы видим, наш поиск гиперпараметров позволил найти более подходящее решение\n",
        "sklearn_demo(load_digits, RFC())\n",
        "sklearn_demo(load_digits, rf_random.best_estimator_)"
      ],
      "execution_count": 0,
      "outputs": [
        {
          "output_type": "stream",
          "text": [
            "/usr/local/lib/python3.6/dist-packages/sklearn/ensemble/forest.py:245: FutureWarning: The default value of n_estimators will change from 10 in version 0.20 to 100 in 0.22.\n",
            "  \"10 in version 0.20 to 100 in 0.22.\", FutureWarning)\n"
          ],
          "name": "stderr"
        },
        {
          "output_type": "stream",
          "text": [
            "Used classifier: <class 'sklearn.ensemble.forest.RandomForestClassifier'>, Got accuracy score: 0.9583333333333334\n",
            "Used classifier: <class 'sklearn.ensemble.forest.RandomForestClassifier'>, Got accuracy score: 0.975\n"
          ],
          "name": "stdout"
        }
      ]
    },
    {
      "cell_type": "markdown",
      "metadata": {
        "id": "YGw3Te_eywzr",
        "colab_type": "text"
      },
      "source": [
        "### Tensorflow: demo"
      ]
    },
    {
      "cell_type": "markdown",
      "metadata": {
        "id": "JgwHO_59piqA",
        "colab_type": "text"
      },
      "source": [
        "Главная особенность фреймворка Tensorflow заключается в построении и компиляции графа вычислений над тензорами, заданием входных вершин ( placeholder), а фреймворк позволяет вычислять значения в вершинах графа, а также распространять градиенты в обратном порядке (backpropagation)"
      ]
    },
    {
      "cell_type": "markdown",
      "metadata": {
        "id": "UpTj7U6xqFBq",
        "colab_type": "text"
      },
      "source": [
        "Научимся создавать графы вычислений: каждая из вершин графа имеет один из трех видов:\n",
        "\n",
        "1. placeholder, в который можно передавать различные значения тензоров\n",
        "2. Тензор, который задается некоторым методом инициализации\n",
        "3. Тензор, являющийся результатом некоторой операции"
      ]
    },
    {
      "cell_type": "markdown",
      "metadata": {
        "id": "nrL8r4Yxq6j3",
        "colab_type": "text"
      },
      "source": [
        "Построим граф, который представляет собой схему для вычисления `3x + y`"
      ]
    },
    {
      "cell_type": "code",
      "metadata": {
        "id": "ZvfQed2Zq5zR",
        "colab_type": "code",
        "colab": {}
      },
      "source": [
        "import tensorflow as tf"
      ],
      "execution_count": 0,
      "outputs": []
    },
    {
      "cell_type": "code",
      "metadata": {
        "id": "m1rrJrkMy1pX",
        "colab_type": "code",
        "colab": {}
      },
      "source": [
        "x = tf.placeholder(tf.float32, shape=())\n",
        "y = tf.placeholder(tf.float32, shape=())"
      ],
      "execution_count": 0,
      "outputs": []
    },
    {
      "cell_type": "markdown",
      "metadata": {
        "id": "MzNKmbZVrcKb",
        "colab_type": "text"
      },
      "source": [
        "Параметр shape задает количество размерностей тензора и размер по каждой координате. Если количество элементов в какой-то из размерностей может быть произвольным, то для этой размерности указывается значение `None`.\n",
        "\n",
        "***Вопрос.*** Почему в этом случае `shape=()`? "
      ]
    },
    {
      "cell_type": "markdown",
      "metadata": {
        "id": "ic3FK-nJsN8X",
        "colab_type": "text"
      },
      "source": [
        "Рассмотрим различные способы того, как можно задавать тензоры на примере 3."
      ]
    },
    {
      "cell_type": "code",
      "metadata": {
        "id": "4IqFxRlpsFL_",
        "colab_type": "code",
        "colab": {}
      },
      "source": [
        "three_1 = tf.constant(3.0)\n",
        "z1 = three_1 * x + y"
      ],
      "execution_count": 0,
      "outputs": []
    },
    {
      "cell_type": "code",
      "metadata": {
        "id": "YrmwirbrywXS",
        "colab_type": "code",
        "colab": {}
      },
      "source": [
        "three_2 = tf.get_variable('three', shape=(), initializer=tf.constant_initializer(3.0))\n",
        "z2 = three_2 * x + y"
      ],
      "execution_count": 0,
      "outputs": []
    },
    {
      "cell_type": "code",
      "metadata": {
        "id": "BzNE8MX7sclK",
        "colab_type": "code",
        "colab": {}
      },
      "source": [
        "z3 = x * 3 + y"
      ],
      "execution_count": 0,
      "outputs": []
    },
    {
      "cell_type": "markdown",
      "metadata": {
        "id": "MGfuAWnMtXVq",
        "colab_type": "text"
      },
      "source": [
        "Теперь, как в схеме, нужно подать ток! Для этого необходимо создать сессию. Это можно сделать разными способами:"
      ]
    },
    {
      "cell_type": "code",
      "metadata": {
        "id": "4Kt1TVN2tk3-",
        "colab_type": "code",
        "outputId": "9710785b-3437-4999-ffab-708a9cfcd4a7",
        "colab": {
          "base_uri": "https://localhost:8080/",
          "height": 71
        }
      },
      "source": [
        "# Способ 1. Для произвольных Python файлов\n",
        "\n",
        "with tf.Session() as sess:\n",
        "    print(sess.run(z1, feed_dict={\n",
        "        x: 2,\n",
        "        y: 5\n",
        "    }))\n",
        "\n",
        "    print(sess.run(z3, feed_dict={\n",
        "        x: 2,\n",
        "        y: 5\n",
        "    }))"
      ],
      "execution_count": 0,
      "outputs": [
        {
          "output_type": "stream",
          "text": [
            "11.0\n",
            "11.0\n"
          ],
          "name": "stdout"
        }
      ]
    },
    {
      "cell_type": "markdown",
      "metadata": {
        "id": "QEjXtsmduIjn",
        "colab_type": "text"
      },
      "source": [
        "Попробуем запустить для `z2`."
      ]
    },
    {
      "cell_type": "code",
      "metadata": {
        "id": "zUIRvG-ruCPM",
        "colab_type": "code",
        "outputId": "25d9bb74-74d3-48b8-9aa5-a121ce4a30ee",
        "colab": {
          "base_uri": "https://localhost:8080/",
          "height": 1000
        }
      },
      "source": [
        "with tf.Session() as sess:\n",
        "\n",
        "    print(sess.run(z2, feed_dict={\n",
        "        x: 2,\n",
        "        y: 5\n",
        "    }))"
      ],
      "execution_count": 0,
      "outputs": [
        {
          "output_type": "error",
          "ename": "FailedPreconditionError",
          "evalue": "ignored",
          "traceback": [
            "\u001b[0;31m---------------------------------------------------------------------------\u001b[0m",
            "\u001b[0;31mFailedPreconditionError\u001b[0m                   Traceback (most recent call last)",
            "\u001b[0;32m/usr/local/lib/python3.6/dist-packages/tensorflow/python/client/session.py\u001b[0m in \u001b[0;36m_do_call\u001b[0;34m(self, fn, *args)\u001b[0m\n\u001b[1;32m   1355\u001b[0m     \u001b[0;32mtry\u001b[0m\u001b[0;34m:\u001b[0m\u001b[0;34m\u001b[0m\u001b[0;34m\u001b[0m\u001b[0m\n\u001b[0;32m-> 1356\u001b[0;31m       \u001b[0;32mreturn\u001b[0m \u001b[0mfn\u001b[0m\u001b[0;34m(\u001b[0m\u001b[0;34m*\u001b[0m\u001b[0margs\u001b[0m\u001b[0;34m)\u001b[0m\u001b[0;34m\u001b[0m\u001b[0;34m\u001b[0m\u001b[0m\n\u001b[0m\u001b[1;32m   1357\u001b[0m     \u001b[0;32mexcept\u001b[0m \u001b[0merrors\u001b[0m\u001b[0;34m.\u001b[0m\u001b[0mOpError\u001b[0m \u001b[0;32mas\u001b[0m \u001b[0me\u001b[0m\u001b[0;34m:\u001b[0m\u001b[0;34m\u001b[0m\u001b[0;34m\u001b[0m\u001b[0m\n",
            "\u001b[0;32m/usr/local/lib/python3.6/dist-packages/tensorflow/python/client/session.py\u001b[0m in \u001b[0;36m_run_fn\u001b[0;34m(feed_dict, fetch_list, target_list, options, run_metadata)\u001b[0m\n\u001b[1;32m   1340\u001b[0m       return self._call_tf_sessionrun(\n\u001b[0;32m-> 1341\u001b[0;31m           options, feed_dict, fetch_list, target_list, run_metadata)\n\u001b[0m\u001b[1;32m   1342\u001b[0m \u001b[0;34m\u001b[0m\u001b[0m\n",
            "\u001b[0;32m/usr/local/lib/python3.6/dist-packages/tensorflow/python/client/session.py\u001b[0m in \u001b[0;36m_call_tf_sessionrun\u001b[0;34m(self, options, feed_dict, fetch_list, target_list, run_metadata)\u001b[0m\n\u001b[1;32m   1428\u001b[0m         \u001b[0mself\u001b[0m\u001b[0;34m.\u001b[0m\u001b[0m_session\u001b[0m\u001b[0;34m,\u001b[0m \u001b[0moptions\u001b[0m\u001b[0;34m,\u001b[0m \u001b[0mfeed_dict\u001b[0m\u001b[0;34m,\u001b[0m \u001b[0mfetch_list\u001b[0m\u001b[0;34m,\u001b[0m \u001b[0mtarget_list\u001b[0m\u001b[0;34m,\u001b[0m\u001b[0;34m\u001b[0m\u001b[0;34m\u001b[0m\u001b[0m\n\u001b[0;32m-> 1429\u001b[0;31m         run_metadata)\n\u001b[0m\u001b[1;32m   1430\u001b[0m \u001b[0;34m\u001b[0m\u001b[0m\n",
            "\u001b[0;31mFailedPreconditionError\u001b[0m: Attempting to use uninitialized value three\n\t [[{{node three/read}}]]",
            "\nDuring handling of the above exception, another exception occurred:\n",
            "\u001b[0;31mFailedPreconditionError\u001b[0m                   Traceback (most recent call last)",
            "\u001b[0;32m<ipython-input-31-ebbaafdfbac3>\u001b[0m in \u001b[0;36m<module>\u001b[0;34m()\u001b[0m\n\u001b[1;32m      3\u001b[0m     print(sess.run(z2, feed_dict={\n\u001b[1;32m      4\u001b[0m         \u001b[0mx\u001b[0m\u001b[0;34m:\u001b[0m \u001b[0;36m2\u001b[0m\u001b[0;34m,\u001b[0m\u001b[0;34m\u001b[0m\u001b[0;34m\u001b[0m\u001b[0m\n\u001b[0;32m----> 5\u001b[0;31m         \u001b[0my\u001b[0m\u001b[0;34m:\u001b[0m \u001b[0;36m5\u001b[0m\u001b[0;34m\u001b[0m\u001b[0;34m\u001b[0m\u001b[0m\n\u001b[0m\u001b[1;32m      6\u001b[0m     }))\n",
            "\u001b[0;32m/usr/local/lib/python3.6/dist-packages/tensorflow/python/client/session.py\u001b[0m in \u001b[0;36mrun\u001b[0;34m(self, fetches, feed_dict, options, run_metadata)\u001b[0m\n\u001b[1;32m    948\u001b[0m     \u001b[0;32mtry\u001b[0m\u001b[0;34m:\u001b[0m\u001b[0;34m\u001b[0m\u001b[0;34m\u001b[0m\u001b[0m\n\u001b[1;32m    949\u001b[0m       result = self._run(None, fetches, feed_dict, options_ptr,\n\u001b[0;32m--> 950\u001b[0;31m                          run_metadata_ptr)\n\u001b[0m\u001b[1;32m    951\u001b[0m       \u001b[0;32mif\u001b[0m \u001b[0mrun_metadata\u001b[0m\u001b[0;34m:\u001b[0m\u001b[0;34m\u001b[0m\u001b[0;34m\u001b[0m\u001b[0m\n\u001b[1;32m    952\u001b[0m         \u001b[0mproto_data\u001b[0m \u001b[0;34m=\u001b[0m \u001b[0mtf_session\u001b[0m\u001b[0;34m.\u001b[0m\u001b[0mTF_GetBuffer\u001b[0m\u001b[0;34m(\u001b[0m\u001b[0mrun_metadata_ptr\u001b[0m\u001b[0;34m)\u001b[0m\u001b[0;34m\u001b[0m\u001b[0;34m\u001b[0m\u001b[0m\n",
            "\u001b[0;32m/usr/local/lib/python3.6/dist-packages/tensorflow/python/client/session.py\u001b[0m in \u001b[0;36m_run\u001b[0;34m(self, handle, fetches, feed_dict, options, run_metadata)\u001b[0m\n\u001b[1;32m   1171\u001b[0m     \u001b[0;32mif\u001b[0m \u001b[0mfinal_fetches\u001b[0m \u001b[0;32mor\u001b[0m \u001b[0mfinal_targets\u001b[0m \u001b[0;32mor\u001b[0m \u001b[0;34m(\u001b[0m\u001b[0mhandle\u001b[0m \u001b[0;32mand\u001b[0m \u001b[0mfeed_dict_tensor\u001b[0m\u001b[0;34m)\u001b[0m\u001b[0;34m:\u001b[0m\u001b[0;34m\u001b[0m\u001b[0;34m\u001b[0m\u001b[0m\n\u001b[1;32m   1172\u001b[0m       results = self._do_run(handle, final_targets, final_fetches,\n\u001b[0;32m-> 1173\u001b[0;31m                              feed_dict_tensor, options, run_metadata)\n\u001b[0m\u001b[1;32m   1174\u001b[0m     \u001b[0;32melse\u001b[0m\u001b[0;34m:\u001b[0m\u001b[0;34m\u001b[0m\u001b[0;34m\u001b[0m\u001b[0m\n\u001b[1;32m   1175\u001b[0m       \u001b[0mresults\u001b[0m \u001b[0;34m=\u001b[0m \u001b[0;34m[\u001b[0m\u001b[0;34m]\u001b[0m\u001b[0;34m\u001b[0m\u001b[0;34m\u001b[0m\u001b[0m\n",
            "\u001b[0;32m/usr/local/lib/python3.6/dist-packages/tensorflow/python/client/session.py\u001b[0m in \u001b[0;36m_do_run\u001b[0;34m(self, handle, target_list, fetch_list, feed_dict, options, run_metadata)\u001b[0m\n\u001b[1;32m   1348\u001b[0m     \u001b[0;32mif\u001b[0m \u001b[0mhandle\u001b[0m \u001b[0;32mis\u001b[0m \u001b[0;32mNone\u001b[0m\u001b[0;34m:\u001b[0m\u001b[0;34m\u001b[0m\u001b[0;34m\u001b[0m\u001b[0m\n\u001b[1;32m   1349\u001b[0m       return self._do_call(_run_fn, feeds, fetches, targets, options,\n\u001b[0;32m-> 1350\u001b[0;31m                            run_metadata)\n\u001b[0m\u001b[1;32m   1351\u001b[0m     \u001b[0;32melse\u001b[0m\u001b[0;34m:\u001b[0m\u001b[0;34m\u001b[0m\u001b[0;34m\u001b[0m\u001b[0m\n\u001b[1;32m   1352\u001b[0m       \u001b[0;32mreturn\u001b[0m \u001b[0mself\u001b[0m\u001b[0;34m.\u001b[0m\u001b[0m_do_call\u001b[0m\u001b[0;34m(\u001b[0m\u001b[0m_prun_fn\u001b[0m\u001b[0;34m,\u001b[0m \u001b[0mhandle\u001b[0m\u001b[0;34m,\u001b[0m \u001b[0mfeeds\u001b[0m\u001b[0;34m,\u001b[0m \u001b[0mfetches\u001b[0m\u001b[0;34m)\u001b[0m\u001b[0;34m\u001b[0m\u001b[0;34m\u001b[0m\u001b[0m\n",
            "\u001b[0;32m/usr/local/lib/python3.6/dist-packages/tensorflow/python/client/session.py\u001b[0m in \u001b[0;36m_do_call\u001b[0;34m(self, fn, *args)\u001b[0m\n\u001b[1;32m   1368\u001b[0m           \u001b[0;32mpass\u001b[0m\u001b[0;34m\u001b[0m\u001b[0;34m\u001b[0m\u001b[0m\n\u001b[1;32m   1369\u001b[0m       \u001b[0mmessage\u001b[0m \u001b[0;34m=\u001b[0m \u001b[0merror_interpolation\u001b[0m\u001b[0;34m.\u001b[0m\u001b[0minterpolate\u001b[0m\u001b[0;34m(\u001b[0m\u001b[0mmessage\u001b[0m\u001b[0;34m,\u001b[0m \u001b[0mself\u001b[0m\u001b[0;34m.\u001b[0m\u001b[0m_graph\u001b[0m\u001b[0;34m)\u001b[0m\u001b[0;34m\u001b[0m\u001b[0;34m\u001b[0m\u001b[0m\n\u001b[0;32m-> 1370\u001b[0;31m       \u001b[0;32mraise\u001b[0m \u001b[0mtype\u001b[0m\u001b[0;34m(\u001b[0m\u001b[0me\u001b[0m\u001b[0;34m)\u001b[0m\u001b[0;34m(\u001b[0m\u001b[0mnode_def\u001b[0m\u001b[0;34m,\u001b[0m \u001b[0mop\u001b[0m\u001b[0;34m,\u001b[0m \u001b[0mmessage\u001b[0m\u001b[0;34m)\u001b[0m\u001b[0;34m\u001b[0m\u001b[0;34m\u001b[0m\u001b[0m\n\u001b[0m\u001b[1;32m   1371\u001b[0m \u001b[0;34m\u001b[0m\u001b[0m\n\u001b[1;32m   1372\u001b[0m   \u001b[0;32mdef\u001b[0m \u001b[0m_extend_graph\u001b[0m\u001b[0;34m(\u001b[0m\u001b[0mself\u001b[0m\u001b[0;34m)\u001b[0m\u001b[0;34m:\u001b[0m\u001b[0;34m\u001b[0m\u001b[0;34m\u001b[0m\u001b[0m\n",
            "\u001b[0;31mFailedPreconditionError\u001b[0m: Attempting to use uninitialized value three\n\t [[node three/read (defined at <ipython-input-27-1557fec6f575>:1) ]]\n\nOriginal stack trace for 'three/read':\n  File \"/usr/lib/python3.6/runpy.py\", line 193, in _run_module_as_main\n    \"__main__\", mod_spec)\n  File \"/usr/lib/python3.6/runpy.py\", line 85, in _run_code\n    exec(code, run_globals)\n  File \"/usr/local/lib/python3.6/dist-packages/ipykernel_launcher.py\", line 16, in <module>\n    app.launch_new_instance()\n  File \"/usr/local/lib/python3.6/dist-packages/traitlets/config/application.py\", line 658, in launch_instance\n    app.start()\n  File \"/usr/local/lib/python3.6/dist-packages/ipykernel/kernelapp.py\", line 477, in start\n    ioloop.IOLoop.instance().start()\n  File \"/usr/local/lib/python3.6/dist-packages/tornado/ioloop.py\", line 888, in start\n    handler_func(fd_obj, events)\n  File \"/usr/local/lib/python3.6/dist-packages/tornado/stack_context.py\", line 277, in null_wrapper\n    return fn(*args, **kwargs)\n  File \"/usr/local/lib/python3.6/dist-packages/zmq/eventloop/zmqstream.py\", line 450, in _handle_events\n    self._handle_recv()\n  File \"/usr/local/lib/python3.6/dist-packages/zmq/eventloop/zmqstream.py\", line 480, in _handle_recv\n    self._run_callback(callback, msg)\n  File \"/usr/local/lib/python3.6/dist-packages/zmq/eventloop/zmqstream.py\", line 432, in _run_callback\n    callback(*args, **kwargs)\n  File \"/usr/local/lib/python3.6/dist-packages/tornado/stack_context.py\", line 277, in null_wrapper\n    return fn(*args, **kwargs)\n  File \"/usr/local/lib/python3.6/dist-packages/ipykernel/kernelbase.py\", line 283, in dispatcher\n    return self.dispatch_shell(stream, msg)\n  File \"/usr/local/lib/python3.6/dist-packages/ipykernel/kernelbase.py\", line 235, in dispatch_shell\n    handler(stream, idents, msg)\n  File \"/usr/local/lib/python3.6/dist-packages/ipykernel/kernelbase.py\", line 399, in execute_request\n    user_expressions, allow_stdin)\n  File \"/usr/local/lib/python3.6/dist-packages/ipykernel/ipkernel.py\", line 196, in do_execute\n    res = shell.run_cell(code, store_history=store_history, silent=silent)\n  File \"/usr/local/lib/python3.6/dist-packages/ipykernel/zmqshell.py\", line 533, in run_cell\n    return super(ZMQInteractiveShell, self).run_cell(*args, **kwargs)\n  File \"/usr/local/lib/python3.6/dist-packages/IPython/core/interactiveshell.py\", line 2718, in run_cell\n    interactivity=interactivity, compiler=compiler, result=result)\n  File \"/usr/local/lib/python3.6/dist-packages/IPython/core/interactiveshell.py\", line 2822, in run_ast_nodes\n    if self.run_code(code, result):\n  File \"/usr/local/lib/python3.6/dist-packages/IPython/core/interactiveshell.py\", line 2882, in run_code\n    exec(code_obj, self.user_global_ns, self.user_ns)\n  File \"<ipython-input-27-1557fec6f575>\", line 1, in <module>\n    three_2 = tf.get_variable('three', shape=(), initializer=tf.constant_initializer(3.0))\n  File \"/usr/local/lib/python3.6/dist-packages/tensorflow/python/ops/variable_scope.py\", line 1496, in get_variable\n    aggregation=aggregation)\n  File \"/usr/local/lib/python3.6/dist-packages/tensorflow/python/ops/variable_scope.py\", line 1239, in get_variable\n    aggregation=aggregation)\n  File \"/usr/local/lib/python3.6/dist-packages/tensorflow/python/ops/variable_scope.py\", line 562, in get_variable\n    aggregation=aggregation)\n  File \"/usr/local/lib/python3.6/dist-packages/tensorflow/python/ops/variable_scope.py\", line 514, in _true_getter\n    aggregation=aggregation)\n  File \"/usr/local/lib/python3.6/dist-packages/tensorflow/python/ops/variable_scope.py\", line 929, in _get_single_variable\n    aggregation=aggregation)\n  File \"/usr/local/lib/python3.6/dist-packages/tensorflow/python/ops/variables.py\", line 259, in __call__\n    return cls._variable_v1_call(*args, **kwargs)\n  File \"/usr/local/lib/python3.6/dist-packages/tensorflow/python/ops/variables.py\", line 220, in _variable_v1_call\n    shape=shape)\n  File \"/usr/local/lib/python3.6/dist-packages/tensorflow/python/ops/variables.py\", line 198, in <lambda>\n    previous_getter = lambda **kwargs: default_variable_creator(None, **kwargs)\n  File \"/usr/local/lib/python3.6/dist-packages/tensorflow/python/ops/variable_scope.py\", line 2511, in default_variable_creator\n    shape=shape)\n  File \"/usr/local/lib/python3.6/dist-packages/tensorflow/python/ops/variables.py\", line 263, in __call__\n    return super(VariableMetaclass, cls).__call__(*args, **kwargs)\n  File \"/usr/local/lib/python3.6/dist-packages/tensorflow/python/ops/variables.py\", line 1568, in __init__\n    shape=shape)\n  File \"/usr/local/lib/python3.6/dist-packages/tensorflow/python/ops/variables.py\", line 1755, in _init_from_args\n    self._snapshot = array_ops.identity(self._variable, name=\"read\")\n  File \"/usr/local/lib/python3.6/dist-packages/tensorflow/python/util/dispatch.py\", line 180, in wrapper\n    return target(*args, **kwargs)\n  File \"/usr/local/lib/python3.6/dist-packages/tensorflow/python/ops/array_ops.py\", line 86, in identity\n    ret = gen_array_ops.identity(input, name=name)\n  File \"/usr/local/lib/python3.6/dist-packages/tensorflow/python/ops/gen_array_ops.py\", line 4253, in identity\n    \"Identity\", input=input, name=name)\n  File \"/usr/local/lib/python3.6/dist-packages/tensorflow/python/framework/op_def_library.py\", line 788, in _apply_op_helper\n    op_def=op_def)\n  File \"/usr/local/lib/python3.6/dist-packages/tensorflow/python/util/deprecation.py\", line 507, in new_func\n    return func(*args, **kwargs)\n  File \"/usr/local/lib/python3.6/dist-packages/tensorflow/python/framework/ops.py\", line 3616, in create_op\n    op_def=op_def)\n  File \"/usr/local/lib/python3.6/dist-packages/tensorflow/python/framework/ops.py\", line 2005, in __init__\n    self._traceback = tf_stack.extract_stack()\n"
          ]
        }
      ]
    },
    {
      "cell_type": "markdown",
      "metadata": {
        "id": "gjGEVpVLuQ_h",
        "colab_type": "text"
      },
      "source": [
        "Как вы думаете, почему не работает?"
      ]
    },
    {
      "cell_type": "code",
      "metadata": {
        "id": "PWeCn1ocuMyg",
        "colab_type": "code",
        "outputId": "eedfd319-084c-4014-c4d4-5ab8431fdc55",
        "colab": {
          "base_uri": "https://localhost:8080/",
          "height": 54
        }
      },
      "source": [
        "with tf.Session() as sess:\n",
        "    sess.run(tf.global_variables_initializer())\n",
        "    print(sess.run(z2, feed_dict={\n",
        "        x: 2,\n",
        "        y: 5\n",
        "    }))"
      ],
      "execution_count": 0,
      "outputs": [
        {
          "output_type": "stream",
          "text": [
            "11.0\n"
          ],
          "name": "stdout"
        }
      ]
    },
    {
      "cell_type": "markdown",
      "metadata": {
        "id": "kebLxQ1Tun82",
        "colab_type": "text"
      },
      "source": [
        "Параметр feed_dict в запуске сессии указывает на то, какие данные мы подставляем в placeholder для подсчета итоговых значений."
      ]
    },
    {
      "cell_type": "markdown",
      "metadata": {
        "id": "mVMqkbR1vuyP",
        "colab_type": "text"
      },
      "source": [
        "Вторым способом, удобным для использования в ноутбуках, является использование интерактивных сессий:"
      ]
    },
    {
      "cell_type": "code",
      "metadata": {
        "id": "0EYj7n7Kv3qp",
        "colab_type": "code",
        "colab": {}
      },
      "source": [
        "interactive_sess = tf.InteractiveSession()"
      ],
      "execution_count": 0,
      "outputs": []
    },
    {
      "cell_type": "code",
      "metadata": {
        "id": "uboSwB28v6HT",
        "colab_type": "code",
        "outputId": "c6d8c630-dc56-4e2f-b01e-d2f5e1e41846",
        "colab": {
          "base_uri": "https://localhost:8080/",
          "height": 54
        }
      },
      "source": [
        "interactive_sess.run(z1, feed_dict={x: 2, y: 5})"
      ],
      "execution_count": 0,
      "outputs": [
        {
          "output_type": "execute_result",
          "data": {
            "text/plain": [
              "11.0"
            ]
          },
          "metadata": {
            "tags": []
          },
          "execution_count": 34
        }
      ]
    },
    {
      "cell_type": "markdown",
      "metadata": {
        "id": "bbqTKUYZu5Ox",
        "colab_type": "text"
      },
      "source": [
        "Для структурирования тензоров и операций в tensorflow, есть понятия области видимости имен и переменных - ***name_scope*** и ***variable_scope*** соответственно. Особенно полезно это оказывается тогда, когда необходимо продублировать граф с одними переменными.\n",
        "\n",
        "Рассмотрим для этого пример вычисления уровня на плоскости: $v * (w + a) + b$, где $v$ и $w$ - некоторые веса, а $a$, $b$ - входные данные. "
      ]
    },
    {
      "cell_type": "code",
      "metadata": {
        "id": "pNykjAb0w4vu",
        "colab_type": "code",
        "colab": {}
      },
      "source": [
        "tf.get_variable?"
      ],
      "execution_count": 0,
      "outputs": []
    },
    {
      "cell_type": "code",
      "metadata": {
        "id": "3R_0N1azuqm3",
        "colab_type": "code",
        "outputId": "83b0340c-0839-41b3-b6e9-507c2c627ff2",
        "colab": {
          "base_uri": "https://localhost:8080/",
          "height": 104
        }
      },
      "source": [
        "v1 = tf.get_variable('v1', shape=())\n",
        "w1 = tf.get_variable('w1', shape=())\n",
        "\n",
        "a = tf.placeholder(tf.float32, shape=())\n",
        "b = tf.placeholder(tf.float32, shape=())"
      ],
      "execution_count": 0,
      "outputs": [
        {
          "output_type": "stream",
          "text": [
            "WARNING: Logging before flag parsing goes to stderr.\n",
            "W0906 13:27:26.465807 140669548255104 deprecation.py:506] From /usr/local/lib/python3.6/dist-packages/tensorflow/python/ops/init_ops.py:1251: calling VarianceScaling.__init__ (from tensorflow.python.ops.init_ops) with dtype is deprecated and will be removed in a future version.\n",
            "Instructions for updating:\n",
            "Call initializer instance with the dtype argument instead of passing it to the constructor\n"
          ],
          "name": "stderr"
        }
      ]
    },
    {
      "cell_type": "code",
      "metadata": {
        "id": "HpGm8v-BxQjC",
        "colab_type": "code",
        "colab": {}
      },
      "source": [
        "res = v1 * (w1 + a) + b"
      ],
      "execution_count": 0,
      "outputs": []
    },
    {
      "cell_type": "code",
      "metadata": {
        "id": "sdB0hINKxNr1",
        "colab_type": "code",
        "outputId": "0d9c098a-e540-4074-f611-6eba2c72e5d7",
        "colab": {
          "base_uri": "https://localhost:8080/",
          "height": 54
        }
      },
      "source": [
        "with tf.Session() as sess:\n",
        "    sess.run(tf.global_variables_initializer())\n",
        "    print(sess.run(res, feed_dict={a: 1.0, b: 2.0}))"
      ],
      "execution_count": 0,
      "outputs": [
        {
          "output_type": "stream",
          "text": [
            "2.6891224\n"
          ],
          "name": "stdout"
        }
      ]
    },
    {
      "cell_type": "markdown",
      "metadata": {
        "id": "8BLQSvpAxisg",
        "colab_type": "text"
      },
      "source": [
        "А теперь мы хотим только произвести умножение на $v$ c тем значением $v$, которое уже задано. Для этого нужно создавать новый placeholder, повторять вычисления? Нет!"
      ]
    },
    {
      "cell_type": "code",
      "metadata": {
        "id": "hgB5C7ltx9_9",
        "colab_type": "code",
        "outputId": "82574b9f-fe0b-4830-e151-10daff548784",
        "colab": {
          "base_uri": "https://localhost:8080/",
          "height": 502
        }
      },
      "source": [
        "v2 = tf.get_variable('v1', shape=())"
      ],
      "execution_count": 0,
      "outputs": [
        {
          "output_type": "error",
          "ename": "ValueError",
          "evalue": "ignored",
          "traceback": [
            "\u001b[0;31m---------------------------------------------------------------------------\u001b[0m",
            "\u001b[0;31mValueError\u001b[0m                                Traceback (most recent call last)",
            "\u001b[0;32m<ipython-input-38-bc698ef1cdfe>\u001b[0m in \u001b[0;36m<module>\u001b[0;34m()\u001b[0m\n\u001b[0;32m----> 1\u001b[0;31m \u001b[0mv2\u001b[0m \u001b[0;34m=\u001b[0m \u001b[0mtf\u001b[0m\u001b[0;34m.\u001b[0m\u001b[0mget_variable\u001b[0m\u001b[0;34m(\u001b[0m\u001b[0;34m'v1'\u001b[0m\u001b[0;34m,\u001b[0m \u001b[0mshape\u001b[0m\u001b[0;34m=\u001b[0m\u001b[0;34m(\u001b[0m\u001b[0;34m)\u001b[0m\u001b[0;34m)\u001b[0m\u001b[0;34m\u001b[0m\u001b[0;34m\u001b[0m\u001b[0m\n\u001b[0m",
            "\u001b[0;32m/usr/local/lib/python3.6/dist-packages/tensorflow/python/ops/variable_scope.py\u001b[0m in \u001b[0;36mget_variable\u001b[0;34m(name, shape, dtype, initializer, regularizer, trainable, collections, caching_device, partitioner, validate_shape, use_resource, custom_getter, constraint, synchronization, aggregation)\u001b[0m\n\u001b[1;32m   1494\u001b[0m       \u001b[0mconstraint\u001b[0m\u001b[0;34m=\u001b[0m\u001b[0mconstraint\u001b[0m\u001b[0;34m,\u001b[0m\u001b[0;34m\u001b[0m\u001b[0;34m\u001b[0m\u001b[0m\n\u001b[1;32m   1495\u001b[0m       \u001b[0msynchronization\u001b[0m\u001b[0;34m=\u001b[0m\u001b[0msynchronization\u001b[0m\u001b[0;34m,\u001b[0m\u001b[0;34m\u001b[0m\u001b[0;34m\u001b[0m\u001b[0m\n\u001b[0;32m-> 1496\u001b[0;31m       aggregation=aggregation)\n\u001b[0m\u001b[1;32m   1497\u001b[0m \u001b[0;34m\u001b[0m\u001b[0m\n\u001b[1;32m   1498\u001b[0m \u001b[0;34m\u001b[0m\u001b[0m\n",
            "\u001b[0;32m/usr/local/lib/python3.6/dist-packages/tensorflow/python/ops/variable_scope.py\u001b[0m in \u001b[0;36mget_variable\u001b[0;34m(self, var_store, name, shape, dtype, initializer, regularizer, reuse, trainable, collections, caching_device, partitioner, validate_shape, use_resource, custom_getter, constraint, synchronization, aggregation)\u001b[0m\n\u001b[1;32m   1237\u001b[0m           \u001b[0mconstraint\u001b[0m\u001b[0;34m=\u001b[0m\u001b[0mconstraint\u001b[0m\u001b[0;34m,\u001b[0m\u001b[0;34m\u001b[0m\u001b[0;34m\u001b[0m\u001b[0m\n\u001b[1;32m   1238\u001b[0m           \u001b[0msynchronization\u001b[0m\u001b[0;34m=\u001b[0m\u001b[0msynchronization\u001b[0m\u001b[0;34m,\u001b[0m\u001b[0;34m\u001b[0m\u001b[0;34m\u001b[0m\u001b[0m\n\u001b[0;32m-> 1239\u001b[0;31m           aggregation=aggregation)\n\u001b[0m\u001b[1;32m   1240\u001b[0m \u001b[0;34m\u001b[0m\u001b[0m\n\u001b[1;32m   1241\u001b[0m   def _get_partitioned_variable(self,\n",
            "\u001b[0;32m/usr/local/lib/python3.6/dist-packages/tensorflow/python/ops/variable_scope.py\u001b[0m in \u001b[0;36mget_variable\u001b[0;34m(self, name, shape, dtype, initializer, regularizer, reuse, trainable, collections, caching_device, partitioner, validate_shape, use_resource, custom_getter, constraint, synchronization, aggregation)\u001b[0m\n\u001b[1;32m    560\u001b[0m           \u001b[0mconstraint\u001b[0m\u001b[0;34m=\u001b[0m\u001b[0mconstraint\u001b[0m\u001b[0;34m,\u001b[0m\u001b[0;34m\u001b[0m\u001b[0;34m\u001b[0m\u001b[0m\n\u001b[1;32m    561\u001b[0m           \u001b[0msynchronization\u001b[0m\u001b[0;34m=\u001b[0m\u001b[0msynchronization\u001b[0m\u001b[0;34m,\u001b[0m\u001b[0;34m\u001b[0m\u001b[0;34m\u001b[0m\u001b[0m\n\u001b[0;32m--> 562\u001b[0;31m           aggregation=aggregation)\n\u001b[0m\u001b[1;32m    563\u001b[0m \u001b[0;34m\u001b[0m\u001b[0m\n\u001b[1;32m    564\u001b[0m   def _get_partitioned_variable(self,\n",
            "\u001b[0;32m/usr/local/lib/python3.6/dist-packages/tensorflow/python/ops/variable_scope.py\u001b[0m in \u001b[0;36m_true_getter\u001b[0;34m(name, shape, dtype, initializer, regularizer, reuse, trainable, collections, caching_device, partitioner, validate_shape, use_resource, constraint, synchronization, aggregation)\u001b[0m\n\u001b[1;32m    512\u001b[0m           \u001b[0mconstraint\u001b[0m\u001b[0;34m=\u001b[0m\u001b[0mconstraint\u001b[0m\u001b[0;34m,\u001b[0m\u001b[0;34m\u001b[0m\u001b[0;34m\u001b[0m\u001b[0m\n\u001b[1;32m    513\u001b[0m           \u001b[0msynchronization\u001b[0m\u001b[0;34m=\u001b[0m\u001b[0msynchronization\u001b[0m\u001b[0;34m,\u001b[0m\u001b[0;34m\u001b[0m\u001b[0;34m\u001b[0m\u001b[0m\n\u001b[0;32m--> 514\u001b[0;31m           aggregation=aggregation)\n\u001b[0m\u001b[1;32m    515\u001b[0m \u001b[0;34m\u001b[0m\u001b[0m\n\u001b[1;32m    516\u001b[0m     synchronization, aggregation, trainable = (\n",
            "\u001b[0;32m/usr/local/lib/python3.6/dist-packages/tensorflow/python/ops/variable_scope.py\u001b[0m in \u001b[0;36m_get_single_variable\u001b[0;34m(self, name, shape, dtype, initializer, regularizer, partition_info, reuse, trainable, collections, caching_device, validate_shape, use_resource, constraint, synchronization, aggregation)\u001b[0m\n\u001b[1;32m    862\u001b[0m         \u001b[0mtb\u001b[0m \u001b[0;34m=\u001b[0m \u001b[0;34m[\u001b[0m\u001b[0mx\u001b[0m \u001b[0;32mfor\u001b[0m \u001b[0mx\u001b[0m \u001b[0;32min\u001b[0m \u001b[0mtb\u001b[0m \u001b[0;32mif\u001b[0m \u001b[0;34m\"tensorflow/python\"\u001b[0m \u001b[0;32mnot\u001b[0m \u001b[0;32min\u001b[0m \u001b[0mx\u001b[0m\u001b[0;34m[\u001b[0m\u001b[0;36m0\u001b[0m\u001b[0;34m]\u001b[0m\u001b[0;34m]\u001b[0m\u001b[0;34m[\u001b[0m\u001b[0;34m:\u001b[0m\u001b[0;36m5\u001b[0m\u001b[0;34m]\u001b[0m\u001b[0;34m\u001b[0m\u001b[0;34m\u001b[0m\u001b[0m\n\u001b[1;32m    863\u001b[0m         raise ValueError(\"%s Originally defined at:\\n\\n%s\" %\n\u001b[0;32m--> 864\u001b[0;31m                          (err_msg, \"\".join(traceback.format_list(tb))))\n\u001b[0m\u001b[1;32m    865\u001b[0m       \u001b[0mfound_var\u001b[0m \u001b[0;34m=\u001b[0m \u001b[0mself\u001b[0m\u001b[0;34m.\u001b[0m\u001b[0m_vars\u001b[0m\u001b[0;34m[\u001b[0m\u001b[0mname\u001b[0m\u001b[0;34m]\u001b[0m\u001b[0;34m\u001b[0m\u001b[0;34m\u001b[0m\u001b[0m\n\u001b[1;32m    866\u001b[0m       \u001b[0;32mif\u001b[0m \u001b[0;32mnot\u001b[0m \u001b[0mshape\u001b[0m\u001b[0;34m.\u001b[0m\u001b[0mis_compatible_with\u001b[0m\u001b[0;34m(\u001b[0m\u001b[0mfound_var\u001b[0m\u001b[0;34m.\u001b[0m\u001b[0mget_shape\u001b[0m\u001b[0;34m(\u001b[0m\u001b[0;34m)\u001b[0m\u001b[0;34m)\u001b[0m\u001b[0;34m:\u001b[0m\u001b[0;34m\u001b[0m\u001b[0;34m\u001b[0m\u001b[0m\n",
            "\u001b[0;31mValueError\u001b[0m: Variable v1 already exists, disallowed. Did you mean to set reuse=True or reuse=tf.AUTO_REUSE in VarScope? Originally defined at:\n\n  File \"<ipython-input-35-2039cf035040>\", line 1, in <module>\n    v1 = tf.get_variable('v1', shape=())\n  File \"/usr/local/lib/python3.6/dist-packages/IPython/core/interactiveshell.py\", line 2882, in run_code\n    exec(code_obj, self.user_global_ns, self.user_ns)\n  File \"/usr/local/lib/python3.6/dist-packages/IPython/core/interactiveshell.py\", line 2822, in run_ast_nodes\n    if self.run_code(code, result):\n  File \"/usr/local/lib/python3.6/dist-packages/IPython/core/interactiveshell.py\", line 2718, in run_cell\n    interactivity=interactivity, compiler=compiler, result=result)\n  File \"/usr/local/lib/python3.6/dist-packages/ipykernel/zmqshell.py\", line 533, in run_cell\n    return super(ZMQInteractiveShell, self).run_cell(*args, **kwargs)\n"
          ]
        }
      ]
    },
    {
      "cell_type": "markdown",
      "metadata": {
        "id": "7cBs3YroyJ8p",
        "colab_type": "text"
      },
      "source": [
        "Из сообщения ошибки понимаем, что нужно создать переменную с тем же именем, только через опцию `reuse=True`. Внутри variable_scope можно такое сделать:"
      ]
    },
    {
      "cell_type": "code",
      "metadata": {
        "id": "4ejmTWfMymlV",
        "colab_type": "code",
        "colab": {}
      },
      "source": [
        "with tf.variable_scope('double-mul'):\n",
        "    v1 = tf.get_variable('v1', shape=())\n",
        "    w1 = tf.get_variable('w1', shape=())\n",
        "\n",
        "    a = tf.placeholder(tf.float32, shape=())\n",
        "    b = tf.placeholder(tf.float32, shape=())\n",
        "    \n",
        "    res1 = v1 * (w1 + a) + b"
      ],
      "execution_count": 0,
      "outputs": []
    },
    {
      "cell_type": "code",
      "metadata": {
        "id": "hkvWwi_yysKb",
        "colab_type": "code",
        "outputId": "85371bfe-eb33-4f77-81f9-9a66f40643bd",
        "colab": {
          "base_uri": "https://localhost:8080/",
          "height": 54
        }
      },
      "source": [
        "v1"
      ],
      "execution_count": 0,
      "outputs": [
        {
          "output_type": "execute_result",
          "data": {
            "text/plain": [
              "<tf.Variable 'double-mul/v1:0' shape=() dtype=float32_ref>"
            ]
          },
          "metadata": {
            "tags": []
          },
          "execution_count": 40
        }
      ]
    },
    {
      "cell_type": "code",
      "metadata": {
        "id": "-AMi0XKGytSc",
        "colab_type": "code",
        "outputId": "0c12c7c9-7ba6-4ccf-a88e-217712781054",
        "colab": {
          "base_uri": "https://localhost:8080/",
          "height": 568
        }
      },
      "source": [
        "# Делаем последнее действие\n",
        "with tf.variable_scope('double-mul'):\n",
        "    v2 = tf.get_variable('v1', shape=())\n",
        "\n",
        "    c = tf.placeholder(tf.float32, shape=())\n",
        "    d = tf.placeholder(tf.float32, shape=())"
      ],
      "execution_count": 0,
      "outputs": [
        {
          "output_type": "error",
          "ename": "ValueError",
          "evalue": "ignored",
          "traceback": [
            "\u001b[0;31m---------------------------------------------------------------------------\u001b[0m",
            "\u001b[0;31mValueError\u001b[0m                                Traceback (most recent call last)",
            "\u001b[0;32m<ipython-input-41-36b549c3abbb>\u001b[0m in \u001b[0;36m<module>\u001b[0;34m()\u001b[0m\n\u001b[1;32m      1\u001b[0m \u001b[0;32mwith\u001b[0m \u001b[0mtf\u001b[0m\u001b[0;34m.\u001b[0m\u001b[0mvariable_scope\u001b[0m\u001b[0;34m(\u001b[0m\u001b[0;34m'double-mul'\u001b[0m\u001b[0;34m)\u001b[0m\u001b[0;34m:\u001b[0m\u001b[0;34m\u001b[0m\u001b[0;34m\u001b[0m\u001b[0m\n\u001b[0;32m----> 2\u001b[0;31m     \u001b[0mv2\u001b[0m \u001b[0;34m=\u001b[0m \u001b[0mtf\u001b[0m\u001b[0;34m.\u001b[0m\u001b[0mget_variable\u001b[0m\u001b[0;34m(\u001b[0m\u001b[0;34m'v1'\u001b[0m\u001b[0;34m,\u001b[0m \u001b[0mshape\u001b[0m\u001b[0;34m=\u001b[0m\u001b[0;34m(\u001b[0m\u001b[0;34m)\u001b[0m\u001b[0;34m)\u001b[0m\u001b[0;34m\u001b[0m\u001b[0;34m\u001b[0m\u001b[0m\n\u001b[0m\u001b[1;32m      3\u001b[0m \u001b[0;34m\u001b[0m\u001b[0m\n\u001b[1;32m      4\u001b[0m     \u001b[0mc\u001b[0m \u001b[0;34m=\u001b[0m \u001b[0mtf\u001b[0m\u001b[0;34m.\u001b[0m\u001b[0mplaceholder\u001b[0m\u001b[0;34m(\u001b[0m\u001b[0mtf\u001b[0m\u001b[0;34m.\u001b[0m\u001b[0mfloat32\u001b[0m\u001b[0;34m,\u001b[0m \u001b[0mshape\u001b[0m\u001b[0;34m=\u001b[0m\u001b[0;34m(\u001b[0m\u001b[0;34m)\u001b[0m\u001b[0;34m)\u001b[0m\u001b[0;34m\u001b[0m\u001b[0;34m\u001b[0m\u001b[0m\n\u001b[1;32m      5\u001b[0m     \u001b[0md\u001b[0m \u001b[0;34m=\u001b[0m \u001b[0mtf\u001b[0m\u001b[0;34m.\u001b[0m\u001b[0mplaceholder\u001b[0m\u001b[0;34m(\u001b[0m\u001b[0mtf\u001b[0m\u001b[0;34m.\u001b[0m\u001b[0mfloat32\u001b[0m\u001b[0;34m,\u001b[0m \u001b[0mshape\u001b[0m\u001b[0;34m=\u001b[0m\u001b[0;34m(\u001b[0m\u001b[0;34m)\u001b[0m\u001b[0;34m)\u001b[0m\u001b[0;34m\u001b[0m\u001b[0;34m\u001b[0m\u001b[0m\n",
            "\u001b[0;32m/usr/local/lib/python3.6/dist-packages/tensorflow/python/ops/variable_scope.py\u001b[0m in \u001b[0;36mget_variable\u001b[0;34m(name, shape, dtype, initializer, regularizer, trainable, collections, caching_device, partitioner, validate_shape, use_resource, custom_getter, constraint, synchronization, aggregation)\u001b[0m\n\u001b[1;32m   1494\u001b[0m       \u001b[0mconstraint\u001b[0m\u001b[0;34m=\u001b[0m\u001b[0mconstraint\u001b[0m\u001b[0;34m,\u001b[0m\u001b[0;34m\u001b[0m\u001b[0;34m\u001b[0m\u001b[0m\n\u001b[1;32m   1495\u001b[0m       \u001b[0msynchronization\u001b[0m\u001b[0;34m=\u001b[0m\u001b[0msynchronization\u001b[0m\u001b[0;34m,\u001b[0m\u001b[0;34m\u001b[0m\u001b[0;34m\u001b[0m\u001b[0m\n\u001b[0;32m-> 1496\u001b[0;31m       aggregation=aggregation)\n\u001b[0m\u001b[1;32m   1497\u001b[0m \u001b[0;34m\u001b[0m\u001b[0m\n\u001b[1;32m   1498\u001b[0m \u001b[0;34m\u001b[0m\u001b[0m\n",
            "\u001b[0;32m/usr/local/lib/python3.6/dist-packages/tensorflow/python/ops/variable_scope.py\u001b[0m in \u001b[0;36mget_variable\u001b[0;34m(self, var_store, name, shape, dtype, initializer, regularizer, reuse, trainable, collections, caching_device, partitioner, validate_shape, use_resource, custom_getter, constraint, synchronization, aggregation)\u001b[0m\n\u001b[1;32m   1237\u001b[0m           \u001b[0mconstraint\u001b[0m\u001b[0;34m=\u001b[0m\u001b[0mconstraint\u001b[0m\u001b[0;34m,\u001b[0m\u001b[0;34m\u001b[0m\u001b[0;34m\u001b[0m\u001b[0m\n\u001b[1;32m   1238\u001b[0m           \u001b[0msynchronization\u001b[0m\u001b[0;34m=\u001b[0m\u001b[0msynchronization\u001b[0m\u001b[0;34m,\u001b[0m\u001b[0;34m\u001b[0m\u001b[0;34m\u001b[0m\u001b[0m\n\u001b[0;32m-> 1239\u001b[0;31m           aggregation=aggregation)\n\u001b[0m\u001b[1;32m   1240\u001b[0m \u001b[0;34m\u001b[0m\u001b[0m\n\u001b[1;32m   1241\u001b[0m   def _get_partitioned_variable(self,\n",
            "\u001b[0;32m/usr/local/lib/python3.6/dist-packages/tensorflow/python/ops/variable_scope.py\u001b[0m in \u001b[0;36mget_variable\u001b[0;34m(self, name, shape, dtype, initializer, regularizer, reuse, trainable, collections, caching_device, partitioner, validate_shape, use_resource, custom_getter, constraint, synchronization, aggregation)\u001b[0m\n\u001b[1;32m    560\u001b[0m           \u001b[0mconstraint\u001b[0m\u001b[0;34m=\u001b[0m\u001b[0mconstraint\u001b[0m\u001b[0;34m,\u001b[0m\u001b[0;34m\u001b[0m\u001b[0;34m\u001b[0m\u001b[0m\n\u001b[1;32m    561\u001b[0m           \u001b[0msynchronization\u001b[0m\u001b[0;34m=\u001b[0m\u001b[0msynchronization\u001b[0m\u001b[0;34m,\u001b[0m\u001b[0;34m\u001b[0m\u001b[0;34m\u001b[0m\u001b[0m\n\u001b[0;32m--> 562\u001b[0;31m           aggregation=aggregation)\n\u001b[0m\u001b[1;32m    563\u001b[0m \u001b[0;34m\u001b[0m\u001b[0m\n\u001b[1;32m    564\u001b[0m   def _get_partitioned_variable(self,\n",
            "\u001b[0;32m/usr/local/lib/python3.6/dist-packages/tensorflow/python/ops/variable_scope.py\u001b[0m in \u001b[0;36m_true_getter\u001b[0;34m(name, shape, dtype, initializer, regularizer, reuse, trainable, collections, caching_device, partitioner, validate_shape, use_resource, constraint, synchronization, aggregation)\u001b[0m\n\u001b[1;32m    512\u001b[0m           \u001b[0mconstraint\u001b[0m\u001b[0;34m=\u001b[0m\u001b[0mconstraint\u001b[0m\u001b[0;34m,\u001b[0m\u001b[0;34m\u001b[0m\u001b[0;34m\u001b[0m\u001b[0m\n\u001b[1;32m    513\u001b[0m           \u001b[0msynchronization\u001b[0m\u001b[0;34m=\u001b[0m\u001b[0msynchronization\u001b[0m\u001b[0;34m,\u001b[0m\u001b[0;34m\u001b[0m\u001b[0;34m\u001b[0m\u001b[0m\n\u001b[0;32m--> 514\u001b[0;31m           aggregation=aggregation)\n\u001b[0m\u001b[1;32m    515\u001b[0m \u001b[0;34m\u001b[0m\u001b[0m\n\u001b[1;32m    516\u001b[0m     synchronization, aggregation, trainable = (\n",
            "\u001b[0;32m/usr/local/lib/python3.6/dist-packages/tensorflow/python/ops/variable_scope.py\u001b[0m in \u001b[0;36m_get_single_variable\u001b[0;34m(self, name, shape, dtype, initializer, regularizer, partition_info, reuse, trainable, collections, caching_device, validate_shape, use_resource, constraint, synchronization, aggregation)\u001b[0m\n\u001b[1;32m    862\u001b[0m         \u001b[0mtb\u001b[0m \u001b[0;34m=\u001b[0m \u001b[0;34m[\u001b[0m\u001b[0mx\u001b[0m \u001b[0;32mfor\u001b[0m \u001b[0mx\u001b[0m \u001b[0;32min\u001b[0m \u001b[0mtb\u001b[0m \u001b[0;32mif\u001b[0m \u001b[0;34m\"tensorflow/python\"\u001b[0m \u001b[0;32mnot\u001b[0m \u001b[0;32min\u001b[0m \u001b[0mx\u001b[0m\u001b[0;34m[\u001b[0m\u001b[0;36m0\u001b[0m\u001b[0;34m]\u001b[0m\u001b[0;34m]\u001b[0m\u001b[0;34m[\u001b[0m\u001b[0;34m:\u001b[0m\u001b[0;36m5\u001b[0m\u001b[0;34m]\u001b[0m\u001b[0;34m\u001b[0m\u001b[0;34m\u001b[0m\u001b[0m\n\u001b[1;32m    863\u001b[0m         raise ValueError(\"%s Originally defined at:\\n\\n%s\" %\n\u001b[0;32m--> 864\u001b[0;31m                          (err_msg, \"\".join(traceback.format_list(tb))))\n\u001b[0m\u001b[1;32m    865\u001b[0m       \u001b[0mfound_var\u001b[0m \u001b[0;34m=\u001b[0m \u001b[0mself\u001b[0m\u001b[0;34m.\u001b[0m\u001b[0m_vars\u001b[0m\u001b[0;34m[\u001b[0m\u001b[0mname\u001b[0m\u001b[0;34m]\u001b[0m\u001b[0;34m\u001b[0m\u001b[0;34m\u001b[0m\u001b[0m\n\u001b[1;32m    866\u001b[0m       \u001b[0;32mif\u001b[0m \u001b[0;32mnot\u001b[0m \u001b[0mshape\u001b[0m\u001b[0;34m.\u001b[0m\u001b[0mis_compatible_with\u001b[0m\u001b[0;34m(\u001b[0m\u001b[0mfound_var\u001b[0m\u001b[0;34m.\u001b[0m\u001b[0mget_shape\u001b[0m\u001b[0;34m(\u001b[0m\u001b[0;34m)\u001b[0m\u001b[0;34m)\u001b[0m\u001b[0;34m:\u001b[0m\u001b[0;34m\u001b[0m\u001b[0;34m\u001b[0m\u001b[0m\n",
            "\u001b[0;31mValueError\u001b[0m: Variable double-mul/v1 already exists, disallowed. Did you mean to set reuse=True or reuse=tf.AUTO_REUSE in VarScope? Originally defined at:\n\n  File \"<ipython-input-39-53fc5fec57b9>\", line 2, in <module>\n    v1 = tf.get_variable('v1', shape=())\n  File \"/usr/local/lib/python3.6/dist-packages/IPython/core/interactiveshell.py\", line 2882, in run_code\n    exec(code_obj, self.user_global_ns, self.user_ns)\n  File \"/usr/local/lib/python3.6/dist-packages/IPython/core/interactiveshell.py\", line 2822, in run_ast_nodes\n    if self.run_code(code, result):\n  File \"/usr/local/lib/python3.6/dist-packages/IPython/core/interactiveshell.py\", line 2718, in run_cell\n    interactivity=interactivity, compiler=compiler, result=result)\n  File \"/usr/local/lib/python3.6/dist-packages/ipykernel/zmqshell.py\", line 533, in run_cell\n    return super(ZMQInteractiveShell, self).run_cell(*args, **kwargs)\n"
          ]
        }
      ]
    },
    {
      "cell_type": "code",
      "metadata": {
        "id": "pt46wNTCy7L5",
        "colab_type": "code",
        "colab": {}
      },
      "source": [
        "# Делаем последнее действие\n",
        "with tf.variable_scope('double-mul', reuse=True):\n",
        "    v2 = tf.get_variable('v1', shape=())\n",
        "\n",
        "    c = tf.placeholder(tf.float32, shape=())\n",
        "    d = tf.placeholder(tf.float32, shape=())\n",
        "    \n",
        "    res2 = v2 * c + d"
      ],
      "execution_count": 0,
      "outputs": []
    },
    {
      "cell_type": "code",
      "metadata": {
        "id": "eJY8qvlwzFMB",
        "colab_type": "code",
        "outputId": "3731db4b-6a1b-42c8-fe30-fdeb24b21dba",
        "colab": {
          "base_uri": "https://localhost:8080/",
          "height": 54
        }
      },
      "source": [
        "v2"
      ],
      "execution_count": 0,
      "outputs": [
        {
          "output_type": "execute_result",
          "data": {
            "text/plain": [
              "<tf.Variable 'double-mul/v1:0' shape=() dtype=float32_ref>"
            ]
          },
          "metadata": {
            "tags": []
          },
          "execution_count": 43
        }
      ]
    },
    {
      "cell_type": "markdown",
      "metadata": {
        "id": "CShcFQFGzA16",
        "colab_type": "text"
      },
      "source": [
        "Проверяем, действительно ли это та же переменная, что и в начале"
      ]
    },
    {
      "cell_type": "code",
      "metadata": {
        "id": "xSs3cp1MyGMf",
        "colab_type": "code",
        "outputId": "e4cc8b8b-7ddc-45f6-d969-f5a1d411af62",
        "colab": {
          "base_uri": "https://localhost:8080/",
          "height": 104
        }
      },
      "source": [
        "# Проверяем, \n",
        "with tf.Session() as sess:\n",
        "    sess.run(tf.global_variables_initializer())\n",
        "    print('v1', sess.run(v1))\n",
        "    print('v2', sess.run(v2))\n",
        "    \n",
        "    print('vc + d', sess.run(res2, feed_dict={c: 1, d: 0}))\n",
        "    print('v(w + a) + b', sess.run(res1, feed_dict={a: 0, b: 0}))"
      ],
      "execution_count": 0,
      "outputs": [
        {
          "output_type": "stream",
          "text": [
            "v1 -0.4822961\n",
            "v2 -0.4822961\n",
            "vc + d -0.4822961\n",
            "v(w + a) + b -0.18991287\n"
          ],
          "name": "stdout"
        }
      ]
    },
    {
      "cell_type": "markdown",
      "metadata": {
        "id": "nqehJAeL0Ili",
        "colab_type": "text"
      },
      "source": [
        "Зачастую этот кейс пригождается в тех случаях, когда обучаем сеть последовательно: сначала один блок на классификацию, после чего - на дополнительную задачу (сначала идет общее, после чего уже идет разбиение на подзадачи)"
      ]
    },
    {
      "cell_type": "markdown",
      "metadata": {
        "id": "snOwseuJ0rTp",
        "colab_type": "text"
      },
      "source": [
        "#### Обучим линейный классификатор на распознавание iris"
      ]
    },
    {
      "cell_type": "code",
      "metadata": {
        "id": "fI7Fu8Cq0vEh",
        "colab_type": "code",
        "outputId": "510395aa-2666-4f94-eb7a-86fc5e4592d4",
        "colab": {
          "base_uri": "https://localhost:8080/",
          "height": 54
        }
      },
      "source": [
        "np_data.shape"
      ],
      "execution_count": 0,
      "outputs": [
        {
          "output_type": "execute_result",
          "data": {
            "text/plain": [
              "(150, 4)"
            ]
          },
          "metadata": {
            "tags": []
          },
          "execution_count": 45
        }
      ]
    },
    {
      "cell_type": "code",
      "metadata": {
        "id": "t7oMJatpxiHN",
        "colab_type": "code",
        "outputId": "49d62a52-f5e8-4e6f-f82c-b568a0fa78bf",
        "colab": {
          "base_uri": "https://localhost:8080/",
          "height": 54
        }
      },
      "source": [
        "from keras.utils import to_categorical\n",
        "\n",
        "np_categorical = to_categorical(np_target)"
      ],
      "execution_count": 0,
      "outputs": [
        {
          "output_type": "stream",
          "text": [
            "Using TensorFlow backend.\n"
          ],
          "name": "stderr"
        }
      ]
    },
    {
      "cell_type": "code",
      "metadata": {
        "id": "xCwPFLrK1Ja8",
        "colab_type": "code",
        "outputId": "cea6b7b3-4b1a-4d48-d05e-d908bc126c51",
        "colab": {
          "base_uri": "https://localhost:8080/",
          "height": 87
        }
      },
      "source": [
        "with tf.variable_scope('iris', reuse=tf.AUTO_REUSE):\n",
        "    \n",
        "    iris_input = tf.placeholder(tf.float32, shape=[None, 4], name='input')\n",
        "    iris_labels = tf.placeholder(tf.float32, shape=[None, 3], name='labels')\n",
        "\n",
        "    iris_weights = tf.get_variable('weights', shape=(4, 3))\n",
        "    \n",
        "    iris_product = tf.matmul(iris_input, iris_weights)\n",
        "    \n",
        "    iris_bias = tf.get_variable('bias', shape=(3))\n",
        "    \n",
        "    \n",
        "    iris_logits = iris_product + iris_bias\n",
        "    \n",
        "    \n",
        "    iris_loss = tf.reduce_mean(tf.nn.sigmoid_cross_entropy_with_logits(\n",
        "        labels=iris_labels,\n",
        "        logits=iris_logits\n",
        "    ))"
      ],
      "execution_count": 0,
      "outputs": [
        {
          "output_type": "stream",
          "text": [
            "W0906 13:32:51.022709 140669548255104 deprecation.py:323] From /usr/local/lib/python3.6/dist-packages/tensorflow/python/ops/nn_impl.py:180: add_dispatch_support.<locals>.wrapper (from tensorflow.python.ops.array_ops) is deprecated and will be removed in a future version.\n",
            "Instructions for updating:\n",
            "Use tf.where in 2.0, which has the same broadcast rule as np.where\n"
          ],
          "name": "stderr"
        }
      ]
    },
    {
      "cell_type": "code",
      "metadata": {
        "id": "fv2cfkko2fdW",
        "colab_type": "code",
        "colab": {}
      },
      "source": [
        "# Зададим оптимизатор\n",
        "\n",
        "iris_optimizer = tf.train.GradientDescentOptimizer(0.1).minimize(\n",
        "    iris_loss, var_list=tf.trainable_variables(scope='iris')\n",
        ")\n"
      ],
      "execution_count": 0,
      "outputs": []
    },
    {
      "cell_type": "code",
      "metadata": {
        "id": "xGJlObTx3KKq",
        "colab_type": "code",
        "colab": {}
      },
      "source": [
        "interactive_sess.run(tf.global_variables_initializer())"
      ],
      "execution_count": 0,
      "outputs": []
    },
    {
      "cell_type": "code",
      "metadata": {
        "id": "yksvuem53NWI",
        "colab_type": "code",
        "outputId": "a80d5002-d85b-4fe4-d9f2-c36c295ce1a2",
        "colab": {
          "base_uri": "https://localhost:8080/",
          "height": 54
        }
      },
      "source": [
        "# Проверим, что loss считается\n",
        "interactive_sess.run(iris_loss, feed_dict={\n",
        "    iris_input: np_data,\n",
        "    iris_labels: np_categorical\n",
        "})"
      ],
      "execution_count": 0,
      "outputs": [
        {
          "output_type": "execute_result",
          "data": {
            "text/plain": [
              "2.2896354"
            ]
          },
          "metadata": {
            "tags": []
          },
          "execution_count": 50
        }
      ]
    },
    {
      "cell_type": "code",
      "metadata": {
        "id": "YVjA0r8P3k6d",
        "colab_type": "code",
        "colab": {}
      },
      "source": [
        "from sklearn.model_selection import train_test_split"
      ],
      "execution_count": 0,
      "outputs": []
    },
    {
      "cell_type": "code",
      "metadata": {
        "id": "_3kQSj4X3pBe",
        "colab_type": "code",
        "colab": {}
      },
      "source": [
        "X_train, X_val, y_train, y_val = train_test_split(\n",
        "    np_data, np_categorical,\n",
        "    shuffle=True,\n",
        "    random_state=42\n",
        ")"
      ],
      "execution_count": 0,
      "outputs": []
    },
    {
      "cell_type": "code",
      "metadata": {
        "id": "cPGz0sJN30dN",
        "colab_type": "code",
        "outputId": "71acac1c-e474-41db-9e09-03800dad1daf",
        "colab": {
          "base_uri": "https://localhost:8080/",
          "height": 864
        }
      },
      "source": [
        "# Цикл обучения\n",
        "\n",
        "for epoch in range(50):\n",
        "    train_loss, _ = interactive_sess.run(\n",
        "        [iris_loss, iris_optimizer], feed_dict={\n",
        "            iris_input: X_train,\n",
        "            iris_labels: y_train\n",
        "        }\n",
        "    )\n",
        "    \n",
        "    val_loss = interactive_sess.run(\n",
        "        iris_loss, feed_dict={\n",
        "            iris_input: X_val,\n",
        "            iris_labels: y_val\n",
        "        }\n",
        "    )\n",
        "    \n",
        "    print(f'Epoch {epoch + 1}: train {train_loss}, val {val_loss}')"
      ],
      "execution_count": 0,
      "outputs": [
        {
          "output_type": "stream",
          "text": [
            "Epoch 1: train 2.3284037113189697, val 1.7589867115020752\n",
            "Epoch 2: train 1.8861340284347534, val 1.389502763748169\n",
            "Epoch 3: train 1.4865851402282715, val 1.0515822172164917\n",
            "Epoch 4: train 1.1170687675476074, val 0.7791897058486938\n",
            "Epoch 5: train 0.8158633708953857, val 0.6362537145614624\n",
            "Epoch 6: train 0.6527039408683777, val 0.5950297117233276\n",
            "Epoch 7: train 0.6014522910118103, val 0.5821021199226379\n",
            "Epoch 8: train 0.5842180848121643, val 0.5746920108795166\n",
            "Epoch 9: train 0.5749747157096863, val 0.5684366226196289\n",
            "Epoch 10: train 0.568074643611908, val 0.5624251365661621\n",
            "Epoch 11: train 0.5620465874671936, val 0.5564801692962646\n",
            "Epoch 12: train 0.556433379650116, val 0.5505938529968262\n",
            "Epoch 13: train 0.5510746836662292, val 0.5447918176651001\n",
            "Epoch 14: train 0.545908510684967, val 0.5390993356704712\n",
            "Epoch 15: train 0.5409080386161804, val 0.5335345268249512\n",
            "Epoch 16: train 0.5360598564147949, val 0.5281082987785339\n",
            "Epoch 17: train 0.5313558578491211, val 0.5228262543678284\n",
            "Epoch 18: train 0.5267899632453918, val 0.5176903009414673\n",
            "Epoch 19: train 0.522357165813446, val 0.5126999020576477\n",
            "Epoch 20: train 0.5180527567863464, val 0.5078527927398682\n",
            "Epoch 21: train 0.5138723254203796, val 0.5031460523605347\n",
            "Epoch 22: train 0.5098117589950562, val 0.4985758364200592\n",
            "Epoch 23: train 0.5058668851852417, val 0.4941381812095642\n",
            "Epoch 24: train 0.5020337104797363, val 0.4898289740085602\n",
            "Epoch 25: train 0.49830862879753113, val 0.4856439530849457\n",
            "Epoch 26: train 0.49468767642974854, val 0.4815790057182312\n",
            "Epoch 27: train 0.4911673963069916, val 0.47763001918792725\n",
            "Epoch 28: train 0.4877442717552185, val 0.4737929105758667\n",
            "Epoch 29: train 0.48441505432128906, val 0.4700638949871063\n",
            "Epoch 30: train 0.4811764657497406, val 0.4664391279220581\n",
            "Epoch 31: train 0.4780253469944, val 0.46291494369506836\n",
            "Epoch 32: train 0.47495877742767334, val 0.4594878852367401\n",
            "Epoch 33: train 0.4719736874103546, val 0.4561544358730316\n",
            "Epoch 34: train 0.46906742453575134, val 0.452911376953125\n",
            "Epoch 35: train 0.46623721718788147, val 0.4497555196285248\n",
            "Epoch 36: train 0.4634805917739868, val 0.4466838836669922\n",
            "Epoch 37: train 0.4607948660850525, val 0.44369345903396606\n",
            "Epoch 38: train 0.4581778049468994, val 0.44078153371810913\n",
            "Epoch 39: train 0.45562684535980225, val 0.43794530630111694\n",
            "Epoch 40: train 0.45313993096351624, val 0.43518221378326416\n",
            "Epoch 41: train 0.45071491599082947, val 0.4324897229671478\n",
            "Epoch 42: train 0.4483496844768524, val 0.4298655092716217\n",
            "Epoch 43: train 0.4460422396659851, val 0.4273071587085724\n",
            "Epoch 44: train 0.4437906742095947, val 0.4248124063014984\n",
            "Epoch 45: train 0.4415931701660156, val 0.4223792850971222\n",
            "Epoch 46: train 0.4394478499889374, val 0.42000558972358704\n",
            "Epoch 47: train 0.4373531937599182, val 0.41768938302993774\n",
            "Epoch 48: train 0.4353073537349701, val 0.4154287874698639\n",
            "Epoch 49: train 0.43330883979797363, val 0.41322198510169983\n",
            "Epoch 50: train 0.4313561022281647, val 0.4110671877861023\n"
          ],
          "name": "stdout"
        }
      ]
    },
    {
      "cell_type": "code",
      "metadata": {
        "id": "FUGhX9Av4i6s",
        "colab_type": "code",
        "colab": {}
      },
      "source": [
        "# Как выдать значения\n",
        "\n",
        "with tf.variable_scope('iris', reuse=tf.AUTO_REUSE):\n",
        "    iris_predictions = tf.argmax(iris_logits, axis=1)\n",
        "\n",
        "val_target = interactive_sess.run(iris_predictions, feed_dict={\n",
        "    iris_input: X_val\n",
        "})"
      ],
      "execution_count": 0,
      "outputs": []
    },
    {
      "cell_type": "code",
      "metadata": {
        "id": "hrHln5eS4smq",
        "colab_type": "code",
        "outputId": "0438b2a5-681d-44df-d240-a3e04de04c4d",
        "colab": {
          "base_uri": "https://localhost:8080/",
          "height": 54
        }
      },
      "source": [
        "np.sum(val_target == np.argmax(y_val, axis=1)) / len(val_target)"
      ],
      "execution_count": 0,
      "outputs": [
        {
          "output_type": "execute_result",
          "data": {
            "text/plain": [
              "0.8157894736842105"
            ]
          },
          "metadata": {
            "tags": []
          },
          "execution_count": 55
        }
      ]
    },
    {
      "cell_type": "markdown",
      "metadata": {
        "id": "ZrFbVDj05IjW",
        "colab_type": "text"
      },
      "source": [
        "Таким образом, обучение в Tensorflow заключается в следующем:\n",
        "* созданием графов вычислением\n",
        "* определением операции (функции потерь), по которой происходит оптимизация\n",
        "* в каждом шаге обучения производим вычисление функции оптимизации (градиентов), замеряем метрики на train\n",
        "* в каждом шаге валидации производим вычисление метрик и смотрим на получившиеся результаты"
      ]
    },
    {
      "cell_type": "markdown",
      "metadata": {
        "id": "r93UJSROtN58",
        "colab_type": "text"
      },
      "source": [
        "Анаконда - это довольно тяжелый и многофункциональный набор пакетов под python, включающий в себя numpy, pandas, matplotlib, sklearn, jupyter и др. Простой способ заиметь сразу большинство нужных для машинки пакетов и пару седых волос. Впрочем, без них вряд ли обходится любой жизненный путь. Здесь нужно отметить наличие такого удобного инструмента разработки как Jupyter Notebook. Это web инструмент для удобного интерактива с интерпретатором Python. "
      ]
    },
    {
      "cell_type": "markdown",
      "metadata": {
        "id": "9McCZSUVTlTo",
        "colab_type": "text"
      },
      "source": [
        "### OpenCV\n",
        "OpenCV — это библиотека компьютерного зрения, в которой есть множество инструментов для решения простых задач, и в целом для обработки изображений. Разберем основные принципы фреймворка"
      ]
    },
    {
      "cell_type": "code",
      "metadata": {
        "id": "Xz9vN9mVZNAg",
        "colab_type": "code",
        "outputId": "6b7a2223-afda-400d-d0d8-6a5addd15947",
        "colab": {
          "base_uri": "https://localhost:8080/",
          "height": 34
        }
      },
      "source": [
        "import cv2\n",
        "cv2.__version__"
      ],
      "execution_count": 0,
      "outputs": [
        {
          "output_type": "execute_result",
          "data": {
            "text/plain": [
              "'3.4.3'"
            ]
          },
          "metadata": {
            "tags": []
          },
          "execution_count": 2
        }
      ]
    },
    {
      "cell_type": "code",
      "metadata": {
        "id": "IIeHcRTNZV7s",
        "colab_type": "code",
        "outputId": "ef6bcfe1-e593-40dc-db08-94ae57556720",
        "colab": {
          "base_uri": "https://localhost:8080/",
          "height": 84
        }
      },
      "source": [
        "# Скачаем какое-нибудь изображение для демонстрации, например lena.jpg\n",
        "!curl https://pbs.twimg.com/media/D_dwZaOXUAMkM-q.png:large -o lena.jpg\n",
        "lena = cv2.imread(\"lena.jpg\")\n",
        "''' Давайте убедимся в том, что на самом деле cv2 работает с картинками\n",
        "как с Numpy массивами.'''\n",
        "print(type(lena), lena.shape)"
      ],
      "execution_count": 0,
      "outputs": [
        {
          "output_type": "stream",
          "text": [
            "  % Total    % Received % Xferd  Average Speed   Time    Time     Time  Current\n",
            "                                 Dload  Upload   Total   Spent    Left  Speed\n",
            "100 1073k  100 1073k    0     0   197k      0  0:00:05  0:00:05 --:--:--  256k\n",
            "<class 'numpy.ndarray'> (800, 800, 3)\n"
          ],
          "name": "stdout"
        }
      ]
    },
    {
      "cell_type": "code",
      "metadata": {
        "id": "truegKetd-FO",
        "colab_type": "code",
        "outputId": "fa98766b-2224-4376-ed1b-23bca9f5098f",
        "colab": {
          "base_uri": "https://localhost:8080/",
          "height": 314
        }
      },
      "source": [
        "''' Есть некоторое количество проблем с тем, чтобы отрисовывать картинки\n",
        "при помощи нативной функции cv2.imshow(image), поэтому для демонстрации\n",
        "воспользуемся функцией из библиотеки scikit-image\n",
        "'''\n",
        "from skimage.io import imshow\n",
        "imshow(lena)"
      ],
      "execution_count": 0,
      "outputs": [
        {
          "output_type": "execute_result",
          "data": {
            "text/plain": [
              "<matplotlib.image.AxesImage at 0x7f70bd978f60>"
            ]
          },
          "metadata": {
            "tags": []
          },
          "execution_count": 4
        },
        {
          "output_type": "display_data",
          "data": {
            "image/png": "[encoded data removed]",
            "text/plain": [
              "<Figure size 432x288 with 1 Axes>"
            ]
          },
          "metadata": {
            "tags": []
          }
        }
      ]
    },
    {
      "cell_type": "code",
      "metadata": {
        "id": "6eWjrTidejzd",
        "colab_type": "code",
        "outputId": "3bb0df22-d468-49bb-ee25-531b02481e5c",
        "colab": {
          "base_uri": "https://localhost:8080/",
          "height": 216
        }
      },
      "source": [
        "import matplotlib.pyplot as plt\n",
        "'''И тут мы замечаем интересную особенность:\n",
        "по умолчанию все картинки в OpenCV хранятся в формате BGR, а не RGB\n",
        "Это как правило не накладывает никаких ограничений, кроме того\n",
        "вы в любой момент можете вернуться к привычному ходу вещей с помощью\n",
        "функции cv2.cvtColor(image, cv2.COLOR_BGR2RGB), другой понятный способ\n",
        "состоит в том, чтобы взять срез по цветам в обратном порядке image[:, :, ::-1]\n",
        "'''\n",
        "plt.subplot('121')\n",
        "imshow(cv2.cvtColor(lena, cv2.COLOR_BGR2RGB))\n",
        "plt.subplot('122')\n",
        "imshow(lena[:, :, ::-1])\n",
        "'''Как мы видим, оба подхода эквивалентны, для картинок со слоем \n",
        "прозрачности есть свои нюансы, но об этом поговорим позже''';"
      ],
      "execution_count": 0,
      "outputs": [
        {
          "output_type": "display_data",
          "data": {
            "image/png": "[encoded data removed]",
            "text/plain": [
              "<Figure size 432x288 with 2 Axes>"
            ]
          },
          "metadata": {
            "tags": []
          }
        }
      ]
    },
    {
      "cell_type": "code",
      "metadata": {
        "id": "bBWnQFqNfe47",
        "colab_type": "code",
        "outputId": "7ebccd72-96fa-4b0a-b61d-6eae29684172",
        "colab": {
          "base_uri": "https://localhost:8080/",
          "height": 54
        }
      },
      "source": [
        "'''Кроме работы с отдельными изображениями, opencv позволяет обрабатывать\n",
        "видеопотоки. Для примера скачаем какой-нибудь видеофайл и превратим его в \n",
        "поток'''"
      ],
      "execution_count": 0,
      "outputs": [
        {
          "output_type": "execute_result",
          "data": {
            "text/plain": [
              "'Кроме работы с отдельными изображениями, opencv позволяет обрабатывать\\nвидеопотоки. Для примера скачаем какой-нибудь видеофайл и превратим его в \\nпоток'"
            ]
          },
          "metadata": {
            "tags": []
          },
          "execution_count": 6
        }
      ]
    },
    {
      "cell_type": "code",
      "metadata": {
        "id": "Cu8rCI1-fva8",
        "colab_type": "code",
        "outputId": "b5e3451d-58a6-4632-ee66-d81b6d4d2872",
        "colab": {
          "base_uri": "https://localhost:8080/",
          "height": 364
        }
      },
      "source": [
        "'''Бинаризация изображения, одна из очень важных задач обработки изображений.\n",
        "Это легко увидеть при работе с текстами. Когда мы работаем с текстами,\n",
        "нам не так важен цвет текста как его форма, размер и др. В том числе, \n",
        "распознавать черно-белый текст проще, чем смесь цветных'''\n",
        "!curl https://nsu.ru/usermanual/_images/642.png -o colored_text.jpg\n",
        "colored_text = cv2.imread('colored_text.jpg')\n",
        "imshow(colored_text[:, :, ::-1])"
      ],
      "execution_count": 0,
      "outputs": [
        {
          "output_type": "stream",
          "text": [
            "  % Total    % Received % Xferd  Average Speed   Time    Time     Time  Current\n",
            "                                 Dload  Upload   Total   Spent    Left  Speed\n",
            "100 10013  100 10013    0     0   6977      0  0:00:01  0:00:01 --:--:--  6977\n"
          ],
          "name": "stdout"
        },
        {
          "output_type": "execute_result",
          "data": {
            "text/plain": [
              "<matplotlib.image.AxesImage at 0x7f70b90634a8>"
            ]
          },
          "metadata": {
            "tags": []
          },
          "execution_count": 7
        },
        {
          "output_type": "display_data",
          "data": {
            "image/png": "[encoded data removed]",
            "text/plain": [
              "<Figure size 432x288 with 1 Axes>"
            ]
          },
          "metadata": {
            "tags": []
          }
        }
      ]
    },
    {
      "cell_type": "code",
      "metadata": {
        "id": "5a-947Xyhbej",
        "colab_type": "code",
        "outputId": "7feadaeb-2137-4549-c428-0cbdada185b2",
        "colab": {
          "base_uri": "https://localhost:8080/",
          "height": 314
        }
      },
      "source": [
        "gray_text = cv2.cvtColor(colored_text, cv2.COLOR_BGR2GRAY)\n",
        "imshow(gray_text)"
      ],
      "execution_count": 0,
      "outputs": [
        {
          "output_type": "execute_result",
          "data": {
            "text/plain": [
              "<matplotlib.image.AxesImage at 0x7f70b8fb9eb8>"
            ]
          },
          "metadata": {
            "tags": []
          },
          "execution_count": 8
        },
        {
          "output_type": "display_data",
          "data": {
            "image/png": "[encoded data removed]",
            "text/plain": [
              "<Figure size 432x288 with 1 Axes>"
            ]
          },
          "metadata": {
            "tags": []
          }
        }
      ]
    },
    {
      "cell_type": "code",
      "metadata": {
        "id": "JmH1c0qAqV_y",
        "colab_type": "code",
        "outputId": "9ab2030f-f1a3-4137-8bfb-68e4067ad685",
        "colab": {
          "base_uri": "https://localhost:8080/",
          "height": 328
        }
      },
      "source": [
        "ret, thresholded1 = cv2.threshold(gray_text, 127, 255, cv2.THRESH_BINARY)\n",
        "ret, thresholded2 = cv2.threshold(gray_text, 150, 255, cv2.THRESH_BINARY)\n",
        "ret, thresholded3 = cv2.threshold(gray_text, 250, 255, cv2.THRESH_BINARY)\n",
        "plt.figure(figsize=(10, 6))\n",
        "plt.subplot('141')\n",
        "imshow(gray_text)\n",
        "plt.subplot('142')\n",
        "imshow(thresholded1)\n",
        "plt.subplot('143')\n",
        "imshow(thresholded2)\n",
        "plt.subplot('144')\n",
        "imshow(thresholded3)\n",
        "'''Вот наглядная демонстрация того, что бинаризация по порогу может работать\n",
        "не слишком хорошо даже в довольно простых ситуациях, а главный вопрос\n",
        "скорее даже в том, как этот порог можно подбирать?''';"
      ],
      "execution_count": 0,
      "outputs": [
        {
          "output_type": "display_data",
          "data": {
            "image/png": "[encoded data removed]",
            "text/plain": [
              "<Figure size 720x432 with 4 Axes>"
            ]
          },
          "metadata": {
            "tags": []
          }
        }
      ]
    },
    {
      "cell_type": "code",
      "metadata": {
        "id": "_VJpBlSxycI6",
        "colab_type": "code",
        "outputId": "c4807505-0f2a-4588-9f23-2974e523a1fa",
        "colab": {
          "base_uri": "https://localhost:8080/",
          "height": 314
        }
      },
      "source": [
        "'''Сгенерируем шумную картинку для демонстрации. Заодно покажем, наличие \n",
        "встроенного функционала, который позволяет рисовать простые фигуры, например \n",
        "прямоугольник. Для фигур также можно задавать тип и толщину линии. Если указать\n",
        "толщину линии -1: рисование будет производиться с заливкой.\n",
        "\n",
        "Главное помнить, что в OpenCV любые отрисовки и перерисовки осуществляются\n",
        "in place, если вы не хотите изменять старое изображение, вам нужно предварительно\n",
        "скопировать его на новый \"холст\"\n",
        "\n",
        "Еще хочется обратить внимание на то, что по умолчанию, мы работаем с массивами\n",
        "типа np.uint8, то есть в каждом цветовом канале значение пикселя может быть\n",
        "равно целому числу из диапазона [0..255]\n",
        "'''\n",
        "noisy_gray = 150 * np.ones((50, 50), dtype=np.uint8)\n",
        "cv2.rectangle(noisy_gray, (10, 10), (40, 40), 127, thickness=-1)\n",
        "noisy_gray = (noisy_gray + np.random.normal(0, 10, size=2500).reshape(50, 50)).astype(np.uint8)\n",
        "# Заодно покажу как сохранять изображения\n",
        "cv2.imwrite('noisy.jpg', noisy_gray)\n",
        "imshow(noisy_gray)"
      ],
      "execution_count": 0,
      "outputs": [
        {
          "output_type": "execute_result",
          "data": {
            "text/plain": [
              "<matplotlib.image.AxesImage at 0x7f70b8115b70>"
            ]
          },
          "metadata": {
            "tags": []
          },
          "execution_count": 74
        },
        {
          "output_type": "display_data",
          "data": {
            "image/png": "[encoded data removed]",
            "text/plain": [
              "<Figure size 432x288 with 1 Axes>"
            ]
          },
          "metadata": {
            "tags": []
          }
        }
      ]
    },
    {
      "cell_type": "code",
      "metadata": {
        "id": "yvarUqH4te_9",
        "colab_type": "code",
        "outputId": "c69094ed-4915-414b-a067-b367588badad",
        "colab": {
          "base_uri": "https://localhost:8080/",
          "height": 594
        }
      },
      "source": [
        "'''OpenCV умеет считывать изображения сразу как серые, для этого нужно передать\n",
        "соответствующий флаг. Важно запомнить, что если не передавать флаг, одноканальные\n",
        "изображения будут загружены как цветные. Вы получите массив с 3 одинаковыми\n",
        "каналами по цветам и ошибки при работе с функциями, которые рассчитывают на\n",
        "одноканальные изображения, так что будте внимательны.\n",
        "\n",
        "Ниже я написал некоторую демонстрацию возможностей openCV по применению\n",
        "фильтров, а также метода Отцу. Этот метод относится к методам с глобальным\n",
        "порогом, но он определяет этот порог алгоритмически исходя из распределения\n",
        "интенсивностей на изображении.\n",
        "'''\n",
        "img=cv2.imread('noisy.jpg', cv2.IMREAD_GRAYSCALE)\n",
        "# global thresholding\n",
        "ret1,th1 = cv.threshold(img,127,255,cv.THRESH_BINARY)\n",
        "# Otsu's thresholding\n",
        "ret2,th2 = cv.threshold(img,0,255,cv.THRESH_BINARY+cv.THRESH_OTSU)\n",
        "# Otsu's thresholding after Gaussian filtering\n",
        "blur = cv.GaussianBlur(img,(5,5),0)\n",
        "ret3,th3 = cv.threshold(blur,0,255,cv.THRESH_BINARY+cv.THRESH_OTSU)\n",
        "# plot all the images and their histograms\n",
        "images = [img, 0, th1,\n",
        "          img, 0, th2,\n",
        "          blur, 0, th3]\n",
        "titles = ['Original Noisy Image','Histogram','Global Thresholding (v=127)',\n",
        "          'Original Noisy Image','Histogram',\"Otsu's Thresholding\",\n",
        "          'Gaussian filtered Image','Histogram',\"Otsu's Thresholding\"]\n",
        "plt.figure(figsize=(20, 10))\n",
        "for i in range(3):\n",
        "    plt.subplot(3,3,i*3+1),plt.imshow(images[i*3],'gray')\n",
        "    plt.title(titles[i*3]), plt.xticks([]), plt.yticks([])\n",
        "    plt.subplot(3,3,i*3+2),plt.hist(images[i*3].ravel(),256)\n",
        "    plt.title(titles[i*3+1]), plt.xticks([]), plt.yticks([])\n",
        "    plt.subplot(3,3,i*3+3),plt.imshow(images[i*3+2],'gray')\n",
        "    plt.title(titles[i*3+2]), plt.xticks([]), plt.yticks([])\n",
        "plt.show()"
      ],
      "execution_count": 0,
      "outputs": [
        {
          "output_type": "display_data",
          "data": {
            "image/png": "[encoded data removed]",
            "text/plain": [
              "<Figure size 1440x720 with 9 Axes>"
            ]
          },
          "metadata": {
            "tags": []
          }
        }
      ]
    },
    {
      "cell_type": "markdown",
      "metadata": {
        "id": "DKVEvXsqxmwg",
        "colab_type": "text"
      },
      "source": [
        "### Jupyter\n",
        "Jupyter — это современный подход к интерактивному программированию на питоне. Почему интерактивное? Потому что ваш \"juptyer\" постоянно подключен к ядру интерпретатора. Давайте посмотрим на примере:\n",
        "\n"
      ]
    },
    {
      "cell_type": "code",
      "metadata": {
        "id": "7W3gGB03zLxH",
        "colab_type": "code",
        "outputId": "aaa85209-7598-4078-8679-e8abd0792b22",
        "colab": {
          "base_uri": "https://localhost:8080/",
          "height": 34
        }
      },
      "source": [
        "import json\n",
        "import base64\n",
        "# Посчитаем сумму некоторых параметров в json файле\n",
        "source = 'CnsKICAibmFtZSI6ICJteSB0ZXN0IGpzb24iLAogICJwYXJhbXMiOiBbMC44LCAwLjMsIDIuNSwgMS43XQoKfQo='\n",
        "parsed_json = json.loads(base64.b64decode(source))\n",
        "# Выведем результат загрузки json данных\n",
        "print(parsed_json)"
      ],
      "execution_count": 0,
      "outputs": [
        {
          "output_type": "stream",
          "text": [
            "{'name': 'my test json', 'params': [0.8, 0.3, 2.5, 1.7]}\n"
          ],
          "name": "stdout"
        }
      ]
    },
    {
      "cell_type": "code",
      "metadata": {
        "id": "wWXu3fZv0i7Q",
        "colab_type": "code",
        "outputId": "be1292e6-b85e-480a-86c5-2d368ee1f329",
        "colab": {
          "base_uri": "https://localhost:8080/",
          "height": 34
        }
      },
      "source": [
        "# Ядро хранит в памяти данные с прошлых запусков\n",
        "# Вычислим сумму параметров\n",
        "sum(parsed_json['params'])"
      ],
      "execution_count": 0,
      "outputs": [
        {
          "output_type": "execute_result",
          "data": {
            "text/plain": [
              "5.3"
            ]
          },
          "metadata": {
            "tags": []
          },
          "execution_count": 19
        }
      ]
    },
    {
      "cell_type": "markdown",
      "metadata": {
        "id": "QG6335IYzUiV",
        "colab_type": "text"
      },
      "source": [
        "#### Notebooks\n",
        "Это мощный инструмент для быстрого написания и отладки простых скриптов, дебага, интерактивной работы с базами данных для анализа и много чего еще\n",
        "#### Jupyter Lab\n",
        "Работа в Jupyter ноутбуках часто заканичивается тем, что у вас открыт миллион вкладок и это может быть не слишком удобно. Jupyter lab позволяет удобно управлять всеми вкладками jupyter и не теряться.![А то будете как Даша](https://cs6.pikabu.ru/post_img/big/2015/01/12/5/1421043416_1912902171.jpg)\n",
        "#### Google colaboratory\n",
        "Это онлайн сервис от гугла, который вам практически на халяву дает примерно следующее:\n",
        "* Совместный просмотр, комментирование, редактирование ноутбуков\n",
        "* Удобную подгрузку файлов с гугл диска\n",
        "* Возможность подключить веб к вашему ядру\n",
        "* Экспорт и импорт стандартного формата .ipynb\n",
        "* Nvidia Tesla K80\n",
        "* В окружении установлены библиотеки для машинного обучения\n",
        "\n",
        "![](https://cs4.pikabu.ru/images/big_size_comm/2014-03_6/13959524073096.jpg)\n",
        "\n",
        "Важно помнить, что долгие вычисления в colab могут быть не самой лучшей идеей.\n",
        "* При разрыве интернет соединения процессы могут прерваться\n",
        "* Есть ограничение от разработчиков, каждые 12 часов ноутбук сбрасывает ядро.\n",
        "* Малое количество ядер процессора - доступно 2 (лайфхак - можно переполнить память, дадут машину с 4 ядрами)\n",
        "![](https://image.spreadshirtmedia.com/image-server/v1/compositions/1012773656/views/1,width=650,height=650,appearanceId=1,backgroundColor=d6daf0,version=1565757568/classic-sad-frog.jpg)"
      ]
    },
    {
      "cell_type": "markdown",
      "metadata": {
        "id": "n0LoYemWxTd_",
        "colab_type": "text"
      },
      "source": [
        "### Anaconda\n",
        "Анаконда — это программный пакет для \"исследователей\". Это удобная обертка для Python/R с библиотеками для машинного обучения из коробки. Удобно:\n",
        "* Большинство библиотек будет установлено автоматически\n",
        "* Много разных оберток\n",
        "\n",
        "Неудобно:\n",
        "* Вам может быть не нужно столько библиотек, а анаконда довольно много весит\n",
        "* Могут быть конфликты с системным питоном или между анакондами под разные версии питона\n",
        "\n"
      ]
    },
    {
      "cell_type": "markdown",
      "metadata": {
        "id": "luu4DBFYtIWl",
        "colab_type": "text"
      },
      "source": [
        "### PyCharm.\n",
        "Преимущества работы в IDE:\n",
        "* Auto-complete\n",
        "* Refactor (generate code/rename)\n",
        "* Add remote repository\n",
        "* Visual merge/rebase...\n",
        "* Syntax check\n",
        "* Code style\n",
        "* Scientific mode\n",
        "\n",
        "Клевые штуки в PyCharm Professional Edition\n",
        "\n",
        "* Remote deployment\n",
        "* Remote interpreter\n",
        "* Remote debugger\n"
      ]
    },
    {
      "cell_type": "markdown",
      "metadata": {
        "id": "Vhc2NMyYaNd-",
        "colab_type": "text"
      },
      "source": [
        "## Упражнения\n",
        "\n",
        "1. Обучите двуслойную сеть на классификацию на датасете digits (для промежуточного слоя активации используйте `tf.nn.relu`), замерьте точность на классификации.\n",
        "\n",
        "2. Обучите двуслойную сеть на классификацию на датасете MNIST. Для загрузки можно использовать `from keras.datasets import mnist`, пример - https://keras.io/datasets/#mnist-database-of-handwritten-digits, замерьте точность на классификации\n"
      ]
    },
    {
      "cell_type": "markdown",
      "metadata": {
        "id": "UqykDYEFOwlY",
        "colab_type": "text"
      },
      "source": [
        "## Update operations in Tensorflow\n",
        "\n",
        "Иногда необходимо создавать операции обновления некоторых параметров в самом графе. К примеру, таким образом можно создавать подсчеты для средних метрик (accuracy, f1score, precision). Некоторые техники, как batch normalization работают с накапливаемой статистикой\n",
        "\n",
        "К примеру, напишем пример для подсчета среднего значения функции."
      ]
    },
    {
      "cell_type": "code",
      "metadata": {
        "id": "uR8HLyTeaOzf",
        "colab_type": "code",
        "colab": {}
      },
      "source": [
        "import tensorflow as tf"
      ],
      "execution_count": 0,
      "outputs": []
    },
    {
      "cell_type": "code",
      "metadata": {
        "id": "voj8cXBARGY_",
        "colab_type": "code",
        "colab": {}
      },
      "source": [
        "sess = tf.InteractiveSession()"
      ],
      "execution_count": 0,
      "outputs": []
    },
    {
      "cell_type": "code",
      "metadata": {
        "id": "LLoW9AAnRKoM",
        "colab_type": "code",
        "colab": {}
      },
      "source": [
        "values = tf.placeholder(tf.float32, shape=[None])"
      ],
      "execution_count": 0,
      "outputs": []
    },
    {
      "cell_type": "code",
      "metadata": {
        "id": "FSqUPoEDRcfj",
        "colab_type": "code",
        "colab": {}
      },
      "source": [
        "count = tf.get_variable('count1', dtype=tf.int32, shape=(), initializer=tf.constant_initializer(0))"
      ],
      "execution_count": 0,
      "outputs": []
    },
    {
      "cell_type": "code",
      "metadata": {
        "id": "PBVFje47R3U_",
        "colab_type": "code",
        "colab": {}
      },
      "source": [
        "batch_count = tf.shape(values)[0]"
      ],
      "execution_count": 0,
      "outputs": []
    },
    {
      "cell_type": "code",
      "metadata": {
        "id": "55yBcvEZR_uX",
        "colab_type": "code",
        "colab": {}
      },
      "source": [
        "sum_values = tf.get_variable('sum_values', dtype=tf.float32, shape=(), initializer=tf.constant_initializer(0))"
      ],
      "execution_count": 0,
      "outputs": []
    },
    {
      "cell_type": "code",
      "metadata": {
        "id": "rTDkqw4rSEgN",
        "colab_type": "code",
        "colab": {}
      },
      "source": [
        "count_increment = tf.assign_add(count, batch_count)"
      ],
      "execution_count": 0,
      "outputs": []
    },
    {
      "cell_type": "code",
      "metadata": {
        "id": "LZn1SH2KTTan",
        "colab_type": "code",
        "colab": {}
      },
      "source": [
        "sum_increment = tf.assign_add(sum_values, tf.reduce_sum(values))"
      ],
      "execution_count": 0,
      "outputs": []
    },
    {
      "cell_type": "code",
      "metadata": {
        "id": "GJDzvJUjS7h1",
        "colab_type": "code",
        "colab": {}
      },
      "source": [
        "sess.run(tf.global_variables_initializer())"
      ],
      "execution_count": 0,
      "outputs": []
    },
    {
      "cell_type": "code",
      "metadata": {
        "id": "74dA_TxCTANK",
        "colab_type": "code",
        "colab": {
          "base_uri": "https://localhost:8080/",
          "height": 54
        },
        "outputId": "46e55d04-f6d4-4f96-da16-cf2027aa5bc7"
      },
      "source": [
        "import numpy as np\n",
        "sess.run(sum_increment, feed_dict={values: np.ones(10).astype(np.float32)})"
      ],
      "execution_count": 20,
      "outputs": [
        {
          "output_type": "execute_result",
          "data": {
            "text/plain": [
              "10.0"
            ]
          },
          "metadata": {
            "tags": []
          },
          "execution_count": 20
        }
      ]
    },
    {
      "cell_type": "code",
      "metadata": {
        "id": "DFgYIkD_TptG",
        "colab_type": "code",
        "colab": {
          "base_uri": "https://localhost:8080/",
          "height": 54
        },
        "outputId": "ad9b8978-cdd7-4d1d-f4e5-bd744fd84ecd"
      },
      "source": [
        "sess.run(sum_values)"
      ],
      "execution_count": 21,
      "outputs": [
        {
          "output_type": "execute_result",
          "data": {
            "text/plain": [
              "10.0"
            ]
          },
          "metadata": {
            "tags": []
          },
          "execution_count": 21
        }
      ]
    },
    {
      "cell_type": "code",
      "metadata": {
        "id": "rq3VT8iAT1_D",
        "colab_type": "code",
        "colab": {
          "base_uri": "https://localhost:8080/",
          "height": 54
        },
        "outputId": "0cf75290-7a9c-4f7b-c17e-3b888b804b3f"
      },
      "source": [
        "sess.run(sum_increment, feed_dict={values: np.ones(20).astype(np.float32)})"
      ],
      "execution_count": 22,
      "outputs": [
        {
          "output_type": "execute_result",
          "data": {
            "text/plain": [
              "30.0"
            ]
          },
          "metadata": {
            "tags": []
          },
          "execution_count": 22
        }
      ]
    },
    {
      "cell_type": "markdown",
      "metadata": {
        "id": "SSthX0lcT72z",
        "colab_type": "text"
      },
      "source": [
        "Таким образом, можно использовать накапливание счетчиков. Теперь осталось сделать два пункта:\n",
        "* Как посчитать среднее значение?\n",
        "* Как обнулить значение счетчика?"
      ]
    },
    {
      "cell_type": "code",
      "metadata": {
        "id": "ZjUP_b3PUI_Z",
        "colab_type": "code",
        "colab": {}
      },
      "source": [
        "# Среднее значение\n",
        "\n",
        "mean_value = sum_values / tf.cast(count, tf.float32)"
      ],
      "execution_count": 0,
      "outputs": []
    },
    {
      "cell_type": "code",
      "metadata": {
        "id": "yt2Dkht6T4da",
        "colab_type": "code",
        "colab": {
          "base_uri": "https://localhost:8080/",
          "height": 54
        },
        "outputId": "4f77151e-dd23-4297-b8ed-63e76dc182ca"
      },
      "source": [
        "sess.run(mean_value)"
      ],
      "execution_count": 27,
      "outputs": [
        {
          "output_type": "execute_result",
          "data": {
            "text/plain": [
              "inf"
            ]
          },
          "metadata": {
            "tags": []
          },
          "execution_count": 27
        }
      ]
    },
    {
      "cell_type": "markdown",
      "metadata": {
        "id": "S4PlgfJgUm_o",
        "colab_type": "text"
      },
      "source": [
        "Однако, среднее значение не менялось. В чем проблема?"
      ]
    },
    {
      "cell_type": "code",
      "metadata": {
        "id": "YasdQYdpUWj_",
        "colab_type": "code",
        "colab": {}
      },
      "source": [
        "with tf.control_dependencies([count_increment]):\n",
        "    sum_increment_v2 = tf.assign_add(sum_values, tf.reduce_sum(values))"
      ],
      "execution_count": 0,
      "outputs": []
    },
    {
      "cell_type": "code",
      "metadata": {
        "id": "_28SKx0OU2bj",
        "colab_type": "code",
        "colab": {
          "base_uri": "https://localhost:8080/",
          "height": 54
        },
        "outputId": "0bd08475-7c68-41e6-8b09-c4d793eba1fb"
      },
      "source": [
        "# Проверка\n",
        "sess.run(tf.global_variables_initializer())\n",
        "sess.run(sum_increment_v2, feed_dict={values: np.ones(20).astype(np.float32)})\n",
        "print(sess.run(mean_value))"
      ],
      "execution_count": 30,
      "outputs": [
        {
          "output_type": "stream",
          "text": [
            "1.0\n"
          ],
          "name": "stdout"
        }
      ]
    },
    {
      "cell_type": "code",
      "metadata": {
        "id": "kbmhZOIzVFdV",
        "colab_type": "code",
        "colab": {}
      },
      "source": [
        "# Обнуление счетчика\n",
        "\n",
        "reset_sum_op = tf.assign(sum_values, 0.0)\n",
        "reset_count_op = tf.assign(count, 0)"
      ],
      "execution_count": 0,
      "outputs": []
    },
    {
      "cell_type": "code",
      "metadata": {
        "id": "zX4tdzYBVCEX",
        "colab_type": "code",
        "colab": {
          "base_uri": "https://localhost:8080/",
          "height": 54
        },
        "outputId": "7e59f63c-4c41-40b2-918a-6e288bac7f81"
      },
      "source": [
        "sess.run([reset_sum_op, reset_count_op])"
      ],
      "execution_count": 32,
      "outputs": [
        {
          "output_type": "execute_result",
          "data": {
            "text/plain": [
              "[0.0, 0]"
            ]
          },
          "metadata": {
            "tags": []
          },
          "execution_count": 32
        }
      ]
    },
    {
      "cell_type": "code",
      "metadata": {
        "id": "U-ic81osVmKZ",
        "colab_type": "code",
        "colab": {
          "base_uri": "https://localhost:8080/",
          "height": 54
        },
        "outputId": "d9120e27-1f31-42e1-9151-f30faa7af19e"
      },
      "source": [
        "sess.run([count, sum_values])"
      ],
      "execution_count": 33,
      "outputs": [
        {
          "output_type": "execute_result",
          "data": {
            "text/plain": [
              "[0, 0.0]"
            ]
          },
          "metadata": {
            "tags": []
          },
          "execution_count": 33
        }
      ]
    },
    {
      "cell_type": "markdown",
      "metadata": {
        "id": "MPF0xqI4VruG",
        "colab_type": "text"
      },
      "source": [
        "## Упражнения на обновления\n",
        "\n",
        "* Для примера с MNIST реализуйте подсчет метрики accuracy\n",
        "* Реализуйте метод градиентного спуска при помощи операции обновления. Вам может помочь функция `tf.gradients`: (https://www.tensorflow.org/api_docs/python/tf/gradients)"
      ]
    },
    {
      "cell_type": "markdown",
      "metadata": {
        "id": "7gT6N0rHY-fD",
        "colab_type": "text"
      },
      "source": [
        "## Tensorboard\n",
        "\n",
        "Tensorboard - очень удобный метод визуализации различных данных при обучении в tensorflow. Поддерживает следующие типы переменных:\n",
        "* scalar - для функций потерь\n",
        "* изображения\n",
        "* граф вычислений, построенный в сессии\n",
        "* гистограммы распределений"
      ]
    },
    {
      "cell_type": "markdown",
      "metadata": {
        "id": "g6E6D8SqZake",
        "colab_type": "text"
      },
      "source": [
        "### Инструкция по запуске в Colab"
      ]
    },
    {
      "cell_type": "code",
      "metadata": {
        "id": "O_wgCkTRY9R_",
        "colab_type": "code",
        "colab": {
          "base_uri": "https://localhost:8080/",
          "height": 253
        },
        "outputId": "9b9e2397-18a0-4c13-a1e6-20e428c7763a"
      },
      "source": [
        "!wget https://bin.equinox.io/c/4VmDzA7iaHb/ngrok-stable-linux-amd64.zip\n",
        "!unzip ngrok-stable-linux-amd64.zip"
      ],
      "execution_count": 34,
      "outputs": [
        {
          "output_type": "stream",
          "text": [
            "--2019-09-13 11:33:02--  https://bin.equinox.io/c/4VmDzA7iaHb/ngrok-stable-linux-amd64.zip\n",
            "Resolving bin.equinox.io (bin.equinox.io)... 34.196.238.26, 3.224.23.57, 52.86.119.192, ...\n",
            "Connecting to bin.equinox.io (bin.equinox.io)|34.196.238.26|:443... connected.\n",
            "HTTP request sent, awaiting response... 200 OK\n",
            "Length: 13607069 (13M) [application/octet-stream]\n",
            "Saving to: ‘ngrok-stable-linux-amd64.zip’\n",
            "\n",
            "ngrok-stable-linux- 100%[===================>]  12.98M  17.2MB/s    in 0.8s    \n",
            "\n",
            "2019-09-13 11:33:08 (17.2 MB/s) - ‘ngrok-stable-linux-amd64.zip’ saved [13607069/13607069]\n",
            "\n",
            "Archive:  ngrok-stable-linux-amd64.zip\n",
            "  inflating: ngrok                   \n"
          ],
          "name": "stdout"
        }
      ]
    },
    {
      "cell_type": "code",
      "metadata": {
        "id": "k2qyg082ZdCf",
        "colab_type": "code",
        "colab": {}
      },
      "source": [
        "LOG_DIR = './logs'\n",
        "get_ipython().system_raw(\n",
        "    'tensorboard --logdir {} --host 0.0.0.0 --port 6006 &'\n",
        "    .format(LOG_DIR)\n",
        ")"
      ],
      "execution_count": 0,
      "outputs": []
    },
    {
      "cell_type": "code",
      "metadata": {
        "id": "ut9zxxWQZiNe",
        "colab_type": "code",
        "colab": {}
      },
      "source": [
        "get_ipython().system_raw('./ngrok http 6006 &')"
      ],
      "execution_count": 0,
      "outputs": []
    },
    {
      "cell_type": "code",
      "metadata": {
        "id": "bWq410fhZkWk",
        "colab_type": "code",
        "colab": {
          "base_uri": "https://localhost:8080/",
          "height": 54
        },
        "outputId": "c25e1a29-6869-4c82-d716-95ecb077e4e3"
      },
      "source": [
        "! curl -s http://localhost:4040/api/tunnels | python3 -c \\\n",
        "    \"import sys, json; print(json.load(sys.stdin)['tunnels'][0]['public_url'])\""
      ],
      "execution_count": 37,
      "outputs": [
        {
          "output_type": "stream",
          "text": [
            "http://221efc2c.ngrok.io\n"
          ],
          "name": "stdout"
        }
      ]
    },
    {
      "cell_type": "code",
      "metadata": {
        "id": "RU7W-SsxaR4Q",
        "colab_type": "code",
        "colab": {
          "base_uri": "https://localhost:8080/",
          "height": 71
        },
        "outputId": "993df9c0-7aca-4c07-9660-949bb10ed31a"
      },
      "source": [
        "\n",
        "tf.reset_default_graph()\n",
        "sess = tf.InteractiveSession()"
      ],
      "execution_count": 46,
      "outputs": [
        {
          "output_type": "stream",
          "text": [
            "/usr/local/lib/python3.6/dist-packages/tensorflow/python/client/session.py:1735: UserWarning: An interactive session is already active. This can cause out-of-memory errors in some cases. You must explicitly call `InteractiveSession.close()` to release resources held by the other session(s).\n",
            "  warnings.warn('An interactive session is already active. This can '\n"
          ],
          "name": "stderr"
        }
      ]
    },
    {
      "cell_type": "code",
      "metadata": {
        "id": "Sn8stqF8ZncL",
        "colab_type": "code",
        "colab": {}
      },
      "source": [
        "with tf.variable_scope('iris-with-summaries', reuse=tf.AUTO_REUSE):\n",
        "    \n",
        "    iris_input = tf.placeholder(tf.float32, shape=[None, 4], name='input')\n",
        "    iris_labels = tf.placeholder(tf.float32, shape=[None, 3], name='labels')\n",
        "\n",
        "    iris_weights = tf.get_variable('weights', shape=(4, 3))\n",
        "    \n",
        "    iris_product = tf.matmul(iris_input, iris_weights)\n",
        "    \n",
        "    iris_bias = tf.get_variable('bias', shape=(3))\n",
        "    \n",
        "    \n",
        "    iris_logits = iris_product + iris_bias\n",
        "    \n",
        "    \n",
        "    iris_loss = tf.reduce_mean(tf.nn.sigmoid_cross_entropy_with_logits(\n",
        "        labels=iris_labels,\n",
        "        logits=iris_logits\n",
        "    ))\n",
        "\n",
        "    \n",
        "iris_optimizer = tf.train.GradientDescentOptimizer(0.1).minimize(\n",
        "    iris_loss, var_list=tf.trainable_variables(scope='iris-with-summaries')\n",
        ")"
      ],
      "execution_count": 0,
      "outputs": []
    },
    {
      "cell_type": "code",
      "metadata": {
        "id": "lFwv-TH5aplx",
        "colab_type": "code",
        "colab": {
          "base_uri": "https://localhost:8080/",
          "height": 120
        },
        "outputId": "193f18d5-0193-407f-ce19-7fbabe6e9bf4"
      },
      "source": [
        "import pandas as pd\n",
        "\n",
        "!curl -L https://datahub.io/machine-learning/iris/r/iris.csv --output iris.csv\n",
        "\n",
        "\n",
        "def name_to_class_id(name):\n",
        "  if name == 'Iris-setosa':\n",
        "    return 0\n",
        "  if name == 'Iris-versicolor':\n",
        "    return 1\n",
        "  if name == 'Iris-virginica':\n",
        "    return 2\n",
        "pd_data = pd.read_csv('iris.csv', converters={'class': name_to_class_id})\n",
        "pd_data.head()\n",
        "\n",
        "import numpy as np\n",
        "np_data, np_target = pd_data.values[:, :-1], pd_data.values[:, -1].astype(int)\n",
        "\n",
        "from keras.utils import to_categorical\n",
        "\n",
        "np_categorical = to_categorical(np_target)"
      ],
      "execution_count": 39,
      "outputs": [
        {
          "output_type": "stream",
          "text": [
            "  % Total    % Received % Xferd  Average Speed   Time    Time     Time  Current\n",
            "                                 Dload  Upload   Total   Spent    Left  Speed\n",
            "\r  0     0    0     0    0     0      0      0 --:--:-- --:--:-- --:--:--     0\r100   131  100   131    0     0    126      0  0:00:01  0:00:01 --:--:--   126\r100   131  100   131    0     0    126      0  0:00:01  0:00:01 --:--:--   126\n",
            "\r100  4753  100  4753    0     0   3742      0  0:00:01  0:00:01 --:--:--  3742\n"
          ],
          "name": "stdout"
        },
        {
          "output_type": "stream",
          "text": [
            "Using TensorFlow backend.\n"
          ],
          "name": "stderr"
        }
      ]
    },
    {
      "cell_type": "code",
      "metadata": {
        "id": "ixy-fAGDbAvi",
        "colab_type": "code",
        "colab": {}
      },
      "source": [
        "from sklearn.model_selection import train_test_split\n",
        "\n",
        "X_train, X_val, y_train, y_val = train_test_split(\n",
        "    np_data, np_categorical,\n",
        "    shuffle=True,\n",
        "    random_state=42\n",
        ")"
      ],
      "execution_count": 0,
      "outputs": []
    },
    {
      "cell_type": "code",
      "metadata": {
        "id": "ggp7B1sRbuxb",
        "colab_type": "code",
        "colab": {}
      },
      "source": [
        "train_loss_summary = tf.summary.scalar('train_loss', iris_loss)"
      ],
      "execution_count": 0,
      "outputs": []
    },
    {
      "cell_type": "code",
      "metadata": {
        "id": "yh2g7on5cGDX",
        "colab_type": "code",
        "colab": {}
      },
      "source": [
        "merged = tf.summary.merge_all()"
      ],
      "execution_count": 0,
      "outputs": []
    },
    {
      "cell_type": "code",
      "metadata": {
        "id": "e5aHVQZUcImi",
        "colab_type": "code",
        "colab": {}
      },
      "source": [
        "train_writer = tf.summary.FileWriter('logs/train', sess.graph) # Указываем папку для сохранения данных"
      ],
      "execution_count": 0,
      "outputs": []
    },
    {
      "cell_type": "code",
      "metadata": {
        "id": "SIDL_iBIaOSd",
        "colab_type": "code",
        "colab": {
          "base_uri": "https://localhost:8080/",
          "height": 864
        },
        "outputId": "ffede424-4add-4f27-de28-5f759a38aa27"
      },
      "source": [
        "sess.run(tf.global_variables_initializer())\n",
        "\n",
        "\n",
        "# Цикл обучения\n",
        "\n",
        "for epoch in range(50):\n",
        "    train_loss, _, summary = sess.run(\n",
        "        [iris_loss, iris_optimizer, merged], feed_dict={ # прогоняем подсчет summary\n",
        "            iris_input: X_train,\n",
        "            iris_labels: y_train\n",
        "        }\n",
        "    )\n",
        "    \n",
        "    train_writer.add_summary(summary, epoch) # Добавляем summary\n",
        "    train_writer.flush() # Скидываем данные на диск\n",
        "    \n",
        "    val_loss = sess.run(\n",
        "        iris_loss, feed_dict={\n",
        "            iris_input: X_val,\n",
        "            iris_labels: y_val\n",
        "        }\n",
        "    )\n",
        "    \n",
        "    print(f'Epoch {epoch + 1}: train {train_loss}, val {val_loss}')"
      ],
      "execution_count": 52,
      "outputs": [
        {
          "output_type": "stream",
          "text": [
            "Epoch 1: train 1.4760088920593262, val 1.2687275409698486\n",
            "Epoch 2: train 1.2883274555206299, val 1.111716866493225\n",
            "Epoch 3: train 1.1344021558761597, val 0.9773215651512146\n",
            "Epoch 4: train 1.0016803741455078, val 0.8587863445281982\n",
            "Epoch 5: train 0.8832842707633972, val 0.7552294731140137\n",
            "Epoch 6: train 0.7785571813583374, val 0.6697545051574707\n",
            "Epoch 7: train 0.6910381317138672, val 0.6069896221160889\n",
            "Epoch 8: train 0.6259600520133972, val 0.5683593153953552\n",
            "Epoch 9: train 0.5854058265686035, val 0.5483033657073975\n",
            "Epoch 10: train 0.5642406344413757, val 0.5380032062530518\n",
            "Epoch 11: train 0.5536396503448486, val 0.5314278602600098\n",
            "Epoch 12: train 0.5472992658615112, val 0.526068925857544\n",
            "Epoch 13: train 0.5424424409866333, val 0.5211482048034668\n",
            "Epoch 14: train 0.5381237268447876, val 0.5164585113525391\n",
            "Epoch 15: train 0.5340515375137329, val 0.5119455456733704\n",
            "Epoch 16: train 0.5301353931427002, val 0.5075905919075012\n",
            "Epoch 17: train 0.526343822479248, val 0.5033820867538452\n",
            "Epoch 18: train 0.5226632356643677, val 0.49931013584136963\n",
            "Epoch 19: train 0.5190863609313965, val 0.49536630511283875\n",
            "Epoch 20: train 0.5156077742576599, val 0.4915428161621094\n",
            "Epoch 21: train 0.5122234225273132, val 0.4878329634666443\n",
            "Epoch 22: train 0.5089295506477356, val 0.4842309355735779\n",
            "Epoch 23: train 0.5057229399681091, val 0.4807314872741699\n",
            "Epoch 24: train 0.502600371837616, val 0.47732996940612793\n",
            "Epoch 25: train 0.49955877661705017, val 0.47402223944664\n",
            "Epoch 26: train 0.49659547209739685, val 0.4708043038845062\n",
            "Epoch 27: train 0.49370765686035156, val 0.467672735452652\n",
            "Epoch 28: train 0.4908926784992218, val 0.46462422609329224\n",
            "Epoch 29: train 0.4881480038166046, val 0.4616556465625763\n",
            "Epoch 30: train 0.48547136783599854, val 0.458763986825943\n",
            "Epoch 31: train 0.4828602969646454, val 0.45594650506973267\n",
            "Epoch 32: train 0.4803125262260437, val 0.4532005786895752\n",
            "Epoch 33: train 0.47782596945762634, val 0.45052364468574524\n",
            "Epoch 34: train 0.4753986597061157, val 0.44791334867477417\n",
            "Epoch 35: train 0.4730284512042999, val 0.44536733627319336\n",
            "Epoch 36: train 0.47071346640586853, val 0.44288337230682373\n",
            "Epoch 37: train 0.46845191717147827, val 0.4404594302177429\n",
            "Epoch 38: train 0.4662419259548187, val 0.4380933940410614\n",
            "Epoch 39: train 0.4640818238258362, val 0.43578335642814636\n",
            "Epoch 40: train 0.46197009086608887, val 0.43352746963500977\n",
            "Epoch 41: train 0.45990508794784546, val 0.43132394552230835\n",
            "Epoch 42: train 0.4578852355480194, val 0.42917096614837646\n",
            "Epoch 43: train 0.4559091329574585, val 0.4270670711994171\n",
            "Epoch 44: train 0.4539754390716553, val 0.42501047253608704\n",
            "Epoch 45: train 0.45208287239074707, val 0.422999769449234\n",
            "Epoch 46: train 0.4502298831939697, val 0.42103350162506104\n",
            "Epoch 47: train 0.44841548800468445, val 0.41911017894744873\n",
            "Epoch 48: train 0.446638286113739, val 0.41722849011421204\n",
            "Epoch 49: train 0.444897323846817, val 0.4153871238231659\n",
            "Epoch 50: train 0.44319143891334534, val 0.4135848879814148\n"
          ],
          "name": "stdout"
        }
      ]
    },
    {
      "cell_type": "markdown",
      "metadata": {
        "id": "0mac9RE8cqsD",
        "colab_type": "text"
      },
      "source": [
        "# Упражнения\n",
        "\n",
        "Для датасета MNIST:\n",
        "* сделайте выводы картинок MNIST в tensorboard (`add_image`)\n",
        "* Сделайте выводы метрик accuracy на train и val дополнительно с выводом функций потерь"
      ]
    }
  ]
}