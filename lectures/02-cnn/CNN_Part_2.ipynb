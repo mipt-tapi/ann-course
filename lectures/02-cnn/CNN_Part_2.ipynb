{
  "nbformat": 4,
  "nbformat_minor": 0,
  "metadata": {
    "colab": {
      "name": "CNN. Part 2.ipynb",
      "provenance": [],
      "collapsed_sections": []
    },
    "kernelspec": {
      "name": "python3",
      "display_name": "Python 3"
    }
  },
  "cells": [
    {
      "cell_type": "markdown",
      "metadata": {
        "id": "oJISlCfsgVNb",
        "colab_type": "text"
      },
      "source": [
        "# Методы детекции и сегментации"
      ]
    },
    {
      "cell_type": "markdown",
      "metadata": {
        "id": "xnWnPbCAgZFG",
        "colab_type": "text"
      },
      "source": [
        "## Детекция"
      ]
    },
    {
      "cell_type": "markdown",
      "metadata": {
        "id": "4j6Dg-3fga1M",
        "colab_type": "text"
      },
      "source": [
        "### Постановка задачи\n",
        "\n",
        "Дано изображение $I$,хотим найти на этом изображение объекты определенных классов (обозначим их число через $C$). Необходимо выделить прямоугольником объекты всех возможных объектов.\n",
        "\n",
        "![](data:image/jpeg;base64,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)\n"
      ]
    },
    {
      "cell_type": "markdown",
      "metadata": {
        "id": "ec6IN5Y_geQL",
        "colab_type": "text"
      },
      "source": [
        "### Метрики качества\n",
        "\n",
        "https://medium.com/@jonathan_hui/map-mean-average-precision-for-object-detection-45c121a31173 - детальный разбор метрик\n",
        "\n",
        "* IoU (intesection over union). Пусть $A$ - предсказанный bbox, а $B$ - целевой bbox. Тогда\n",
        "\n",
        "$$\n",
        "IoU = \\frac{|A\\cap B|}{|A\\cup B|}\n",
        "$$\n",
        "\n",
        "Таким образом, можно измерять, насколько похожи между собой предсказанные области\n",
        "\n",
        "\n",
        "* AP (Average Precision) Для каждого изображения определяем, когда найденные bbox-ы для определенного класса являются TP, TN, FP, FN.\n",
        "\n",
        "True Positive - когда IoU > 0.5 и класс совпадает\n",
        "False Positive - когда IoU < 0.5 или нашлось 2 bbox-а с IoU > 0.5 (редко так считают)\n",
        "False Negative - IoU > 0.5, но класс не совпадает\n",
        "\n",
        "Далее, для каждого изображения строим Precision-Recall кривую по возрастанию Recall, после чего сглаживаем синюю кривую, как показано на рисунке:\n",
        "\n",
        "![alt text](https://miro.medium.com/max/1538/1*Uhs5RacJtH3og8tvH5rctQ.png)\n",
        "\n",
        "AP для каждого класса - это среднее значение Recall в точках 0.0, 0.1, ..., 1.0\n",
        "\n",
        "\n",
        "mAP - среднее значение AP по всем классам.\n",
        "\n",
        "\n",
        "* AP at IoU - предыдущая формула, только когда требуется другой уровень IoU (для практических задач - обычно нужна высокая степень пересечения)\n",
        "\n"
      ]
    },
    {
      "cell_type": "markdown",
      "metadata": {
        "id": "PKtVi2VGldOc",
        "colab_type": "text"
      },
      "source": [
        "### Датасеты для детекции и сегментации\n",
        "\n",
        "* Pascal VOC (2007, 2012) - первые датасеты по детекции и сегментации изображений. Есть изображения 20 классов, 11500 изображений, разметка при этом достаточно грубая и с объектами высокого размера:\n",
        "\n",
        "![alt text](http://host.robots.ox.ac.uk/pascal/VOC/voc2012/segexamples/images/21.jpg)\n",
        "\n",
        "![alt text](http://host.robots.ox.ac.uk/pascal/VOC/voc2012/segexamples/images/21_class.png)\n",
        "\n",
        "\n",
        "* [MSCOCO](mscoco.org): очень много мелких изображений, 90 классов, более точная сегментация и детекция объектов:\n",
        "\n",
        "![alt text](http://cocodataset.org/images/detection-splash.png)"
      ]
    },
    {
      "cell_type": "markdown",
      "metadata": {
        "id": "RIbRtdLQghe7",
        "colab_type": "text"
      },
      "source": [
        "#### Двустадийные методы детекции\n",
        "\n",
        "* R-CNN\n",
        "* Fast-RCNN\n",
        "* Faster-RCNN\n",
        "* Mask-RCNN (смесь детекции и сегментации)\n",
        "\n",
        "#### Одностадийные методы детекции\n",
        "* YOLO\n",
        "* SSD\n",
        "* RetinaNet"
      ]
    },
    {
      "cell_type": "markdown",
      "metadata": {
        "id": "RhGKaoVggbmj",
        "colab_type": "text"
      },
      "source": [
        "### R-CNN\n",
        "\n",
        "\n",
        "Метод был создан в 2014 году и известен как первый метод применения сверточных нейронных сетей для решения задачи Object Detection.\n",
        "\n",
        "![alt text](https://miro.medium.com/max/2872/1*Vc3wROtbND2gYD-pi85cPw.png)\n",
        "\n",
        "\n",
        "1. При помощи метода селективного поиска (аналог методов поиска по изображению), отбиралось порядка 2000 регионов\n",
        "\n",
        "2. После этого каждый из 2000 регионов подавался на вход предобученной сети AlexNet, получался вектор признаков размера 4096.\n",
        "\n",
        "3. После обучения сети обучается SVM на необходимое число классов.\n",
        "\n",
        "4. На этапе inference используется методика non-maximum suppresion, где жадно выбирается объединяющий прямоугольник по метрике IoU.\n",
        "\n",
        "\n",
        "Дополнительно авторы придумали метод оценки ошибок регрессий, который называется bounding box regression.\n",
        "\n",
        "\n",
        "Предположим, что предсказанный bbox имеет параметры $(x, y, w, h)$, где $x, y$ - координаты центра bbox, а $w, h$ - их высота и ширина соответственно. Аналогично определим такой же целевой bbox: $(x', y', w', h')$. Каким образом стоит измерять разность между этими bbox-ами?\n",
        "\n",
        "\n",
        "Оказывается, что необходимо измерять их в относительных масшатабах:\n",
        "\n",
        "$t_x = \\frac{x' - x}{w'}$\n",
        "\n",
        "$t_y = \\frac{y' - y}{h'}$\n",
        "\n",
        "$t_w = \\ln \\left( \\frac{w}{w'} \\right)$\n",
        "\n",
        "$t_h = \\ln \\left( \\frac{h}{h'} \\right)$.\n",
        "\n",
        "Тогда в каком случае все эти значения равны 0?\n",
        "\n"
      ]
    },
    {
      "cell_type": "markdown",
      "metadata": {
        "id": "UFKKP_jlnOlC",
        "colab_type": "text"
      },
      "source": [
        "## Fast R-CNN\n",
        "\n",
        "Авторы в 2015 году решили избавиться от медленного SVM и того, что необходимо делать 2000 прогонов на каждое изображение. Поэтому они решили делать прогон для всего изображения сразу!\n",
        "\n",
        "![alt text](https://miro.medium.com/max/3564/1*y4wLX7KkbmDmRE_YPrelTw.png)\n",
        "\n",
        "\n",
        "Для того, чтобы такой механизм можно было совершить, используется операция RoI pooling: \n",
        "\n",
        "* вычисляем отношение размеров изображения и feature map (сколько это будет для VGG16 и слоя `conv5_3`?)\n",
        "* делаем масштабирование координат bbox на feature map. ***Вопрос***: если размер исходного изображения равен 800 на 600, то чему будет равен размер feature map в сети VGG16?\n",
        "* производим операцию вырезания bbox-а для каждого RoI\n",
        "* далее необходимо привести все RoI к одному размеру при помощи операции max.\n",
        "\n",
        "![картинка](https://miro.medium.com/max/3000/1*TDOx63GthXwgXJb3hXUsUQ.png)\n",
        "\n",
        "Приблизительно так это работает, но есть очень много усложнений!\n",
        "\n",
        "Авторы оригинальной статьи используют выходной размер $7 \\times 7$, что означает размер исходного региона должен быть минимум $112 \\times 112$, что очень много!\n",
        "\n",
        "Поэтому предлагается сделать следующий трюк:\n",
        "\n",
        "* Делаем операцию crop для feature map.\n",
        "* Делаем resize каждого региона из feature map до размера $14 \\times 14$.\n",
        "* Делаем операцию max pooling с ядром $2 \\times 2$.\n",
        "\n",
        "\n",
        "Как определять классификатор и регрессор:\n",
        "* Классификатор - если ground truth bbox имеет IoU с регионом больше определенного порога, то ставим класс объекта (при наличии нескольких отдаем предпочтение наибольшему). Иначе - класс \"Фон\".\n",
        "* Регрессор - для тех объектов, которые не имеют класс \"Фон\" (используется индикаторная функция), вычисляется средняя сглаженная функция потерь:\n",
        "\n",
        "$$\n",
        "    L(p, u, t^u, v) = L_{cls}(p, u) + \\lambda [u \\geq 1 ] L_{loc}(t^u, v),\n",
        "$$\n",
        "\n",
        "где $L_{cls}$ -- функция log loss, а \n",
        "\n",
        "$$\n",
        "    L_{loc}(t^u, v) = \\sum_{i \\in x, y, w, h} smooth_{L_1} (t_i^u - v_i)\n",
        "$$\n",
        "\n",
        "$$\n",
        "    smooth_{L_1}(x) = I(|x| \\le 1 )(0,5 x^2) + I(|x| > 1)(|x| - 0,5)\n",
        "$$\n",
        "\n",
        "Данная функция потерь более устойчива к выбросам относительно $L_2$.\n",
        "\n",
        "С использованием множества масштабов, получено качество $mAP$ 66.9 % на VOC2007.\n",
        "\n",
        "\n"
      ]
    },
    {
      "cell_type": "markdown",
      "metadata": {
        "id": "NeXt9qFdst7x",
        "colab_type": "text"
      },
      "source": [
        "### Faster R-CNN\n",
        "\n",
        "Теперь авторы задумались над тем, чтобы избавиться от метода Selective Search, поскольку он стал узким местом в сети.\n",
        "\n",
        "\n",
        "Необходимо придумать такой механизм, который позволял бы выделять кандидаты в bbox-ы.\n",
        "\n",
        "![alt text](https://miro.medium.com/max/1282/1*WO3athE5rXRW76CGbEqk9w.jpeg)\n",
        "\n",
        "Для этого сделаем ***якори (anchors)*** в каждой точке feature map (опорный bbox)\n",
        "\n",
        "1. Предположим, что каждая точка feature map является центром определенного якоря\n",
        "2. Выделим bbox-ы с центром в feature map и размерами $\\{ 128^2, 256^2, 512^2 \\}$ и отношением сторон $1:1$, $1:2$, $2:1$ (получится 9 якорей).\n",
        "3. Для каждого из 9 якорей будем предсказывать, является ли якорь подходящим кандидатом для ground truth bbox и насколько его можно \"подрегулировать\" в терминах $t$, используемых для регрессии.\n",
        "\n",
        "Рассмотрим пример 9 якорей:\n",
        "\n",
        "![alt text](https://miro.medium.com/max/1404/1*IS_9HnkfDdF00nID6xxF_A.png)\n",
        "\n",
        "***Вопрос*** Если имеется изображение размера 800 на 600, то сколько якорей будет получено?\n",
        "\n",
        "В целом, надо решать эту проблему, поэтому авторы решили сделать задачу фильтрации. Для этого все якори разбиваются на три класса:\n",
        "\n",
        "* 1 - если он дает максимальный IoU для всех классов в якоре или его IoU с ground truth меньше 0.7.\n",
        "* -1 - если IoU с ground truth bbox меньше 0.3.\n",
        "* 0 - иначе - не используется для решения задачи классификации регионов.\n",
        "\n",
        "\n",
        "Изображение с Region Proposal Network:\n",
        "\n",
        "![](https://miro.medium.com/max/750/1*JDQw0RwmnIKeRABw3ZDI7Q.png)\n",
        "\n",
        "Изображение с центрами якорей:\n",
        "\n",
        "\n",
        "![alt text](https://miro.medium.com/max/1600/1*XEHcNRvRybLzo66F6cn-jg.png)\n",
        "\n",
        "\n",
        "Далее, после первой части сети отбираются кандидаты следующим образом:\n",
        "\n",
        "* Происходит сортировка по убыванию уверенности\n",
        "* Применяется метод Non-Maximum Suppression с показателем IoU выше некоторого порога\n",
        "* Оставляют top-k кандидатов, с учетом предсказанных координат применяется RoI Pooling, описанный в Fast-RCNN.\n",
        "\n",
        "\n"
      ]
    },
    {
      "cell_type": "markdown",
      "metadata": {
        "id": "LEHzm74Bw2dw",
        "colab_type": "text"
      },
      "source": [
        "## Однопроходные методы\n",
        "\n",
        "Как было видно, двухпроходные методы имеют недостаток в сложном механизме обучения, поэтому параллельно с этим возникли однопроходные методы, где сразу генерируются anchors.\n",
        "\n",
        "Рассмотрим те из них, которые дали прорыв.\n",
        "\n",
        "\n",
        "## YOLO\n",
        "\n",
        "Ссылка на оригинальную статью - [https://arxiv.org/abs/1506.02640](https://arxiv.org/abs/1506.02640)\n",
        "\n",
        "\n",
        "Идея: изображение бьется на сетку размера $S \\times S$, после чего для ground truth bbox-а определяется ответственная для него ячейка сетки. В каждой ячейке предсказывается $B$ bbox-ов и вероятность того, что ячейка принадлежит данному классу (обозначим их количество через $C$). В итоге, получается $S \\times S \\times (B * 5 + C)$ выходов, где для каждого bbox-а предсказываются:\n",
        "* его координаты центра относительно центра клетки\n",
        "* высота и ширина относительно высоты и ширины изображения соответственно\n",
        "* вероятность того, что в этой клетке есть ground truth bbox объект.\n",
        "\n",
        "![](https://miro.medium.com/max/4226/1*OuMJUWo2rXYA-GYU63NUGw.jpeg)\n",
        "\n",
        "\n",
        "\n",
        "В итоге, функция потерь, измеряет следующие показатели:\n",
        "* отклонения в вероятности того, что в клетке $i$ есть объект, замеряется доля вмещения относительно IoU\n",
        "* для клетки с максимальным IoU относительно ground truth - квадратичные отклонения по центру и корни из квадратичных отклонений по высоте и ширине\n",
        "* отклонения по уверенности объекта, который принадлежит ground truth (для ответственной клетки - показатель в $N$ раз больше)\n",
        "\n",
        "#### Архитектура сети\n",
        "\n",
        "Авторы сначала дообучают Inception v1, после чего решают задачу детекции\n",
        "\n",
        "![](https://miro.medium.com/max/1608/1*jtnrhMFNwGxiQmkY6LkdCQ.jpeg)\n",
        "\n",
        "\n",
        "\n",
        "\n"
      ]
    },
    {
      "cell_type": "markdown",
      "metadata": {
        "id": "T5apzSFw3k38",
        "colab_type": "text"
      },
      "source": [
        "## SSD (Single Shot Detector)\n",
        "\n",
        "Ссылка на оригинальную статью - [https://arxiv.org/abs/1512.02325](https://arxiv.org/abs/1512.02325)\n",
        "\n",
        "\n",
        "Другим направлением было создание механизма якорей в однопроходном механизме.\n",
        "\n",
        "Идея заключается в следующем:\n",
        "\n",
        "* В сверточной сети сразу использовать механизм якорей с предсказанием на выходной слой\n",
        "* После этого, добавляется $l$ сверточных блоков, в каждом из которых уменьшается размер feature map в 2 раза по каждой из размерностей, после чего уже используется тот же механизм якорей ($l = 5$ у авторов статьи), тем самым базовые положения якорей становятся в 5 раз больше.\n",
        "\n",
        "![](https://miro.medium.com/max/2508/1*t2oxAKMUMpdKEqI9b1JSLw.png) - архитектура сети по сравнению с YOLO.\n",
        "\n",
        "\n",
        "Механизм поиска хороших bbox-ов в целом совпадает с идеей из статьи Faster-RCNN.\n"
      ]
    },
    {
      "cell_type": "markdown",
      "metadata": {
        "id": "led1n3zm6qer",
        "colab_type": "text"
      },
      "source": [
        "### Упражнения\n",
        "1. Напишите механизм переводов bbox из абсолютной шкалы в t-шкалу относительно якоря.\n",
        "2. Напишите механизм генерации якорей для изображения с шагом stride (по умолчанию, в сети VGG stride = 16)\n",
        "3. Напишите механизм выбора положительных якорей для ground truth bbox-а.\n",
        "4. Используя репозиторий https://github.com/machrisaa/tensorflow-vgg и данные Pascal VOC2012 для классов \"человек\", \"кот\", \"пес\", обучите Region Proposal Network."
      ]
    },
    {
      "cell_type": "markdown",
      "metadata": {
        "id": "hY_-VF9QCeiv",
        "colab_type": "text"
      },
      "source": [
        "# Сегментация"
      ]
    },
    {
      "cell_type": "markdown",
      "metadata": {
        "id": "BsMNx3FeCg5t",
        "colab_type": "text"
      },
      "source": [
        "## Постановка задачи\n",
        "\n",
        "### Instance segmentation\n",
        "\n",
        "Дано изображение $I$, необходимо для каждого пикселя определить, принадлежит он фону (background) или определенному объекту (foreground)\n",
        "\n",
        "![](data:image/jpeg;base64,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)\n"
      ]
    },
    {
      "cell_type": "markdown",
      "metadata": {
        "id": "On7NfW-mDA9z",
        "colab_type": "text"
      },
      "source": [
        "### Semantic Segmentation\n",
        "\n",
        "Дано изображение $I$, необходимо каждый пиксель изображения соотнести с одним из представленных классов (разбить изображение на классы)\n",
        "\n",
        "![](https://i2.wp.com/s3-ap-south-1.amazonaws.com/av-blog-media/wp-content/uploads/2019/01/semantic_1.jpg?zoom=2&resize=275%2C183&ssl=1)\n",
        "\n",
        "\n",
        "***Вопрос*** Какая из задач является частным фоном другой?\n",
        "\n",
        "***Вопрос*** Какая из метрик, рассмотренных в этой лекции, подходит под решение задачи сегментации? "
      ]
    },
    {
      "cell_type": "markdown",
      "metadata": {
        "id": "lfs2iUOIGEgA",
        "colab_type": "text"
      },
      "source": [
        "## FCN\n",
        "\n",
        "Ссылка на оригинальную статью - https://people.eecs.berkeley.edu/~jonlong/long_shelhamer_fcn.pdf\n",
        "\n",
        "\n",
        "![](http://deeplearning.net/tutorial/_images/fcn.png)\n",
        "\n",
        "В самой первой архитектуре - взяли выходы с `pool3` (1/8), `pool4` (1/16), `pool5` (1/32) с сети VGG16, после чего добавили один сверточный слой с 21 фильтром (число классов VOC + класс \"фон\"), после этого результаты всех слоев суммируется (c приведением к одному масштабу). Приведение к одному масштабу осуществляется методом обратной свертки (conv2d transpose).\n",
        "\n",
        "\n",
        "Результаты:\n",
        "\n",
        "![](http://deeplearning.net/tutorial/_images/fcn32_16_8.png)\n",
        "\n",
        "Как видно, первый метод уже неплохо себя зарекомендовал!\n",
        "\n"
      ]
    },
    {
      "cell_type": "markdown",
      "metadata": {
        "id": "1PZ63s8sIl_v",
        "colab_type": "text"
      },
      "source": [
        "### U-Net\n",
        "\n",
        "Главная идея U-Net - использование skip connection для сетей для того, чтобы охватывать информацию с feature map:\n",
        "\n",
        "![](https://miro.medium.com/max/1600/1*OkUrpDD6I0FpugA_bbYBJQ.png)\n",
        "\n",
        "\n",
        "\n",
        "### Mask R-CNN\n",
        "\n",
        "Идея аналогична идее Faster-RCNN, только добавляется еще один выход, который занимается решением задачи сегментации для Proposal в духе FCN. Дополнительно, из-за проблем, которые были высказаны в разделе про Fast-RCNN (RoIPool), этот механизм был заменен на RoIAlign (который уже был описан)\n",
        "\n",
        "\n",
        "\n",
        "### Deeplab\n",
        "\n",
        "Ссылка на статью Deeplab v1 - https://arxiv.org/pdf/1412.7062.pdf\n",
        "\n",
        "Основная идея в Deeplab v1 - использовать \"atrous convolution\", идея которой изображена ниже\n",
        "\n",
        "![](https://miro.medium.com/max/1220/1*O5B0IRWewitfivGklGDJjA.png)\n",
        "\n",
        "Тем самым, мы повышаем пространственную мощность сети.\n",
        "\n",
        "В качестве \"feature extractor\" сети используется VGG-16 или ResNet-101, где каждый из последовательных слоев заменен на слой с \"dilation rate\", равным 2.\n",
        "\n",
        "***Вопрос.*** Каким образом изменяется receptive field у этой сети?\n",
        "\n",
        "\n",
        "Ссылка на статью Deeplab v2 - https://arxiv.org/pdf/1606.00915.pdf\n",
        "\n",
        "\n",
        "Идея, которая пришла в Deeplab v2, касается пространственного разрешения признаков, которые подаются на вход классификатору пикселей.\n",
        "\n",
        "Заметим, что размерность пикселей обычно не учитывает масштаб (к примеру, в VGG-16 кодируется участок мощностью 32 на 32 пикселя, а изображения масок могут иметь различную пространственную связь). Поэтому перед тем, после того, как делается последний max pooling (у него ставится stride = 1, чтобы не терять информацию), разобъем на 4 блока, каждый из которых отвечает за отдельный масштаб (6, 12, 18, 24) - авторы проводят сравнительный анализ подобранных констант.\n",
        "\n",
        "\n",
        "Сравнение DeeplabV1 и DeeplabV2:\n",
        "\n",
        "![](https://miro.medium.com/max/1260/1*o3180gQ3t3sDC4mz2nGQsA.png)\n",
        "\n",
        "\n",
        "\n",
        "Last but not least - в процессе inference для полученных масок используется механизм CRF (conditional random field), в котором минимизируется потенциал по изображению (работает очень долго, в следующих версиях алгоритма не используется).\n",
        "\n"
      ]
    },
    {
      "cell_type": "markdown",
      "metadata": {
        "id": "ZWLof2JFy6B8",
        "colab_type": "text"
      },
      "source": [
        "### Deeplab v3\n",
        "\n",
        "Ссылка на статью - https://arxiv.org/abs/1706.05587\n",
        "\n",
        "Новшества - авторы заметили, что не истоит использовать свертки с большим dilation rate - потому что иначе она легко превращается в свертку $1 \\times 1$.\n",
        "\n",
        "Поэтому ASPP выглядит следующим образом:\n",
        "\n",
        "![](https://miro.medium.com/max/2566/1*8Lg66z7e7ijuLmSkOzhYvA.png)\n",
        "\n",
        "Где Image Pooling представляет собой следующую структуру:\n",
        "\n",
        "![](https://miro.medium.com/max/1460/1*dRhGetHArI_bs6IdiIFhkA.png)\n",
        "\n",
        "\n",
        "Дополнительно авторы решили пересмотреть ширину сети, внедряя технологию MultiGrid - меньше фильтров, больше dilation rate, где в каждом из сверточных слоев блока используется свой вариант (оптимальный оказался равен (1, 2, 1)).\n",
        "\n",
        "![](https://miro.medium.com/max/2150/1*nFJ_GqK1D3zKCRgtnRfrcw.png)\n",
        "\n",
        "\n",
        "\n"
      ]
    },
    {
      "cell_type": "markdown",
      "metadata": {
        "id": "oKeaaAy56POT",
        "colab_type": "text"
      },
      "source": [
        "### Gated SCNN\n",
        "\n",
        "Концепция state-of-the-art! Параллельно с задачей сегментации решается задача выделения границ (сопряженная задача).\n",
        "\n",
        "![](https://nv-tlabs.github.io/GSCNN/resources/architecture.jpg)\n",
        "\n",
        "В основе лежит архитектура Deeplab v3+, обучается крайне долго!"
      ]
    },
    {
      "cell_type": "markdown",
      "metadata": {
        "id": "9ATDzox28Og7",
        "colab_type": "text"
      },
      "source": [
        "## Задание\n",
        "\n",
        "Выбрать одну из сетей на сегментацию, представленных выше. Обучить на ней задачу сегментации на датасете Pascal VOC 2012, показать результаты. В качестве стартового кода можно использовать репозиторий tensorflow-vgg или научиться импортировать веса inception в духе, аналогичном tensorflow-vgg."
      ]
    }
  ]
}